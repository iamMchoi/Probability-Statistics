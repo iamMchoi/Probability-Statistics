{
  "nbformat": 4,
  "nbformat_minor": 0,
  "metadata": {
    "colab": {
      "name": "Bayesian Linear Regression.ipynb",
      "provenance": [],
      "collapsed_sections": [],
      "include_colab_link": true
    },
    "kernelspec": {
      "name": "python3",
      "display_name": "Python 3"
    },
    "accelerator": "GPU"
  },
  "cells": [
    {
      "cell_type": "markdown",
      "metadata": {
        "id": "view-in-github",
        "colab_type": "text"
      },
      "source": [
        "<a href=\"https://colab.research.google.com/github/iamMchoi/Probability-Statistics/blob/master/Bayesian_Linear_Regression.ipynb\" target=\"_parent\"><img src=\"https://colab.research.google.com/assets/colab-badge.svg\" alt=\"Open In Colab\"/></a>"
      ]
    },
    {
      "cell_type": "markdown",
      "metadata": {
        "nbgrader": {
          "grade": false,
          "locked": true,
          "solution": false
        },
        "id": "1mtJ31ZgH5GH",
        "colab_type": "text"
      },
      "source": [
        "# Bayesian Linear Regression  \n",
        "\n",
        "-----------\n",
        "\n",
        "_Author: Khal Makhoul, W.P.G.Peterson_  \n",
        "\n",
        "## Project Guide\n",
        "\n",
        "--------------\n",
        "\n",
        "- [Project Overview](#overview)\n",
        "- [Introduction and Review](#intro)\n",
        "- [Coding Bayesian Linear Regression](#code)\n",
        "- [Data Refresher](#data)\n",
        "\n",
        "<a id = \"overview\"></a>\n",
        "## Project Overview  \n",
        "\n",
        "------------\n",
        "#### EXPECTED TIME 3 HRS\n",
        "\n",
        "This assignment will test your abilities in two different sections: the [review](#intro) section will revisit Bayes' formula and evaluate your ability to calculate simple Bayesian posterior probabilities. The [coding](#code) section will ask you to build functions that calculate the parameters of Bayesian posteriors for Bayesian Linear Regression.  \n",
        "\n",
        "In a separate notebook, there is a brief demonstration of `pymc3`. The `pymc3` module is a standard for using Markov Chain Monte Carlo to estimate Bayesian derived distributions, in lieu of calculating exact integrals.  \n",
        "One note on `pymc3`: it may be tricky to make function on your individual machine\n",
        "\n",
        "Programming questions will include:\n",
        "- Calculation of Bayesian Posterior\n",
        "- Calculating the $w_{MAP}$\n",
        "- Estimating $\\sigma^2$\n",
        "- Calculating $\\Sigma$  \n",
        "\n",
        "**Motivation**: Bayesian regression allows us to quantify the uncertainty in our model building / the point estimates of our weights calculated in Least Squares Regression.  \n",
        "\n",
        "**Objectives**: This assignment will:\n",
        "- Test fundamental Bayesian knowledge, particulary in regard to Linear Regression\n",
        "- Introduce `pymc3`  \n",
        "\n",
        "**Problem**: Once again we will be using housing data to predict house price using living area and year built.  \n",
        "\n",
        "**Data**: Our data comes from [Kaggle's House Prices Dataset](https://www.kaggle.com/c/house-prices-advanced-regression-techniques/data). \n",
        "\n",
        "#### Imports:\n"
      ]
    },
    {
      "cell_type": "code",
      "metadata": {
        "nbgrader": {
          "grade": false,
          "locked": true,
          "solution": false
        },
        "id": "Mu1641MaH5GJ",
        "colab_type": "code",
        "colab": {}
      },
      "source": [
        "### This cell imports the necessary modules and sets a few plotting parameters for display\n",
        "\n",
        "%matplotlib inline\n",
        "import numpy as np\n",
        "import pandas as pd\n",
        "import matplotlib.pyplot as plt\n",
        "plt.rcParams['figure.figsize'] = (20.0, 10.0)  "
      ],
      "execution_count": 0,
      "outputs": []
    },
    {
      "cell_type": "markdown",
      "metadata": {
        "id": "PsV4k97kLRnW",
        "colab_type": "text"
      },
      "source": [
        "### Basyesian Probability \n",
        "x : Model(or Class) , Z : observation value\n",
        "\n",
        "$$P(x|Z) = \\frac{P(Z|x)P(x)}{P(Z)}$$\n",
        "\n",
        "* **Likelihood** : **P(Z|x)**, The probability that the data (observations) will come from a model\n",
        "\n",
        "* **Prior Probability** : **P(x)**,The a priori probability that an observer has for a system or model before making an observation.\n",
        "\n",
        "* **Posterior Probaility** : **P(x|Z)**,The probability that the event occurred in a particular model after the event occurred.\n",
        "\n",
        "* **※ P(Z)** = P(Z|x)*P(x) + P(Z|y)*P(y) + ..P(Z|n)*P(n)\n",
        "<br></br>\n",
        "\n",
        "**ML(Maximum Likelihood)** : ML 방법은 남자에게서 그러한 머리카락이 나올 확률 p(z|남)과 여자에게서 그러한 머리카락이 나올 확률 p(z|여)을 비교해서 가장 확률이 큰, 즉 likelihood가 가장 큰 클래스(성별)를 선택하는 방법이다.\n",
        "\n",
        "**MAP(Maximum A Posteriori)** : MAP 방법은 z라는 머리카락이 발견되었는데 그것이 남자것일 확률 p(남|z), 그것이 여자것일 확률 p(여|z)를 비교해서 둘 중 큰 값을 갖는 클래스(성별)를 선택하는 방법이다. 즉, 사후확률(posterior prabability)를 최대화시키는 방법으로서 MAP에서 사후확률을 계산할 때 베이즈 정리가 이용된다.\n"
      ]
    },
    {
      "cell_type": "markdown",
      "metadata": {
        "nbgrader": {
          "grade": false,
          "locked": true,
          "solution": false
        },
        "id": "EYqmdTqvH5GN",
        "colab_type": "text"
      },
      "source": [
        "\n",
        "<a id = \"intro\"></a>\n",
        "### Introduction and Review.\n",
        "\n",
        "Bayesian Regression comes with a different toolset than ordinary Linear Regression. In turn, that toolset demands a slightly different mindset. We start with a short review to hightlight the ways in which Bayesian thinking proceeds.\n",
        "\n",
        "Consider a population whose age distribution is as follows:\n",
        "\n",
        "| Age group | $\\%$ of total population   |\n",
        "|------|------|\n",
        "|   $\\le 35$  | $25 \\%$|\n",
        "| $36-65$ | $45 \\%$ |\n",
        "| $\\ge 66$ | $30 \\%$|\n",
        "\n",
        "Say you know the following results of a study about YouTube viewing habits:\n",
        "\n",
        "| Age group | $\\%$ in this group that watch YouTube every day  |\n",
        "|------|------|\n",
        "|   $\\le 35$  | $90 \\%$|\n",
        "| $36-65$ | $50 \\%$  |\n",
        "| $\\ge 66$ | $10 \\%$ |\n",
        "\n",
        "**Prompt: If you know a user watches YouTube every day, what is the probability that they are under 35?**\n",
        "\n",
        "\n",
        "We will start with a prior, then update that prior using the likelihood and the normalization from Bayes's formula. We define the following notation:\n",
        "\n",
        "* $A$: YouTube watching habit\n",
        "* $B$: Age\n",
        "* $A = 1$: User watches YouTube every day \n",
        "* $A = 0$: User does not watch YouTube every day\n",
        "* $B \\le 35$: User has age between 0 and 35\n",
        "* $36 \\le B \\le 65$: User has age between 36 and 65\n",
        "* $B \\ge  66$: User has age greater than 65\n",
        "\n",
        "The prior can be read from the first table: \n",
        "\n",
        "$$P(B \\le 35) = 0.25$$\n",
        "\n",
        "We are looking to calculate the posterior probability:\n",
        "\n",
        "$$P(B \\le 35|A = 1)$$\n",
        "\n",
        "With Bayes's formula:\n",
        "\n",
        "$$P(B|A) = \\frac{P(A|B)P(B)}{P(A)}$$\n",
        "\n",
        "For our question:\n",
        "\n",
        "$$P(B \\le 35|A=1) = \\frac{P(A=1|B \\le 35)*P(B \\le 35)}{P(A=1)}$$  \n",
        "\n",
        "While the tables do not contain the value of $P(A=1)$ it may be calculated:  \n",
        "\n",
        "$P(A=1) = $  \n",
        "\n",
        "\n",
        "$\\ \\ \\ \\ \\ \\ \\ \\ \\ \\ \\ \\ P(A=1| B\\le 35)*P(B\\le 35) \\ + $  \n",
        "\n",
        "$\\ \\ \\ \\ \\ \\ \\ \\ \\ \\ \\ \\ P(A=1|35<B<65)* P(35<B<65)\\  + $  \n",
        "\n",
        "$\\ \\ \\ \\ \\ \\ \\ \\ \\ \\ \\ \\ P(A=1|B\\ge 65)*P(B\\ge 65)$\n",
        "\n",
        "#### Question 1"
      ]
    },
    {
      "cell_type": "code",
      "metadata": {
        "id": "f6PsuDpdH5GO",
        "colab_type": "code",
        "colab": {}
      },
      "source": [
        "### GRADED\n",
        "### In the example above, P(A=1|P<35) is the:\n",
        "### 'a')prior\n",
        "### 'b')liklihood\n",
        "### 'c')nomalization\n",
        "### 'd')posterior\n",
        "\n",
        "### assign character associated with your choice as string to ans1\n",
        "### YOUR ANSWER BELOW\n",
        "\n",
        "ans1 = 'd'"
      ],
      "execution_count": 0,
      "outputs": []
    },
    {
      "cell_type": "code",
      "metadata": {
        "nbgrader": {
          "grade": true,
          "grade_id": "Question 1",
          "locked": true,
          "points": "5",
          "solution": false
        },
        "id": "eTG66RauH5GS",
        "colab_type": "code",
        "colab": {}
      },
      "source": [
        "#\n",
        "# AUTOGRADER TEST - DO NOT REMOVE\n",
        "#\n"
      ],
      "execution_count": 0,
      "outputs": []
    },
    {
      "cell_type": "markdown",
      "metadata": {
        "nbgrader": {
          "grade": false,
          "locked": true,
          "solution": false
        },
        "id": "dG9Q-1NYH5GW",
        "colab_type": "text"
      },
      "source": [
        "#### Question 2"
      ]
    },
    {
      "cell_type": "code",
      "metadata": {
        "id": "0u5UJ9N8H5GX",
        "colab_type": "code",
        "colab": {}
      },
      "source": [
        "### GRADED\n",
        "### Given the values in the tables above, calculate the posterior for:\n",
        "\n",
        "### \"If you know a user watches Youtube every day,\n",
        "### what is the probability that they are under 35?\"\n",
        "\n",
        "### Assign float (posterior probability between 0 and 1) to ans1\n",
        "\n",
        "### YOUR ANSWER BELOW\n",
        "\n",
        "ans1 = 0.46875"
      ],
      "execution_count": 0,
      "outputs": []
    },
    {
      "cell_type": "code",
      "metadata": {
        "nbgrader": {
          "grade": true,
          "grade_id": "Question 2",
          "locked": true,
          "points": "5",
          "solution": false
        },
        "id": "bMg3-rN1H5Ga",
        "colab_type": "code",
        "colab": {}
      },
      "source": [
        "#\n",
        "# AUTOGRADER TEST - DO NOT REMOVE\n",
        "#\n"
      ],
      "execution_count": 0,
      "outputs": []
    },
    {
      "cell_type": "markdown",
      "metadata": {
        "nbgrader": {
          "grade": false,
          "locked": true,
          "solution": false
        },
        "id": "WUtVcukiH5Gd",
        "colab_type": "text"
      },
      "source": [
        "#### Question 3"
      ]
    },
    {
      "cell_type": "code",
      "metadata": {
        "id": "Lfr8ShxXH5Ge",
        "colab_type": "code",
        "colab": {}
      },
      "source": [
        "### GRADED\n",
        "### Code a function called `calc_posterior`\n",
        "\n",
        "### ACCEPT three inputs\n",
        "### Two floats: the likelihood and the prior\n",
        "### One list of tuples, where each tuple has two values corresponding to:\n",
        "### ### ( P(Bn) , P(A|Bn) )\n",
        "### ### ### Assume the list of tuples accounts for all potential values of B\n",
        "### ### ### And that those values of B are all mutually exclusive.\n",
        "### The list of tuples allows for the calculation of normalization constant.\n",
        "\n",
        "### RETURN a float corresponding to the posterior probability\n",
        "\n",
        "### YOUR ANSWER BELOW\n",
        "\n",
        "def calc_posterior(likelihood, prior, norm_list):\n",
        "    \"\"\"\n",
        "    Calculate the posterior probability given likelihood,\n",
        "    prior, and normalization\n",
        "    \n",
        "    Positional Arguments:\n",
        "        likelihood -- float, between 0 and 1\n",
        "        prior -- float, between 0 and 1\n",
        "        norm_list -- list of tuples, each tuple has two values\n",
        "            the first value corresponding to the probability of a value of \"b\"\n",
        "            the second value corresponding to the probability of \n",
        "                a value of \"a\" given that value of \"b\"\n",
        "    Example:\n",
        "        likelihood = .8\n",
        "        prior = .3\n",
        "        norm_list = [(.25 , .9), (.5, .5), (.25,.2)]\n",
        "        print(calc_posterior(likelihood, prior, norm_list))\n",
        "        # --> 0.45714285714285713\n",
        "    \"\"\"\n",
        "    pz_value = 0\n",
        "    \n",
        "    for (a,b) in norm_list:\n",
        "      pz_value += a*b\n",
        "    #------------- Reference -------------\n",
        "    #denominator = sum([x[0]*x[1] for x in norm_list])\n",
        "    #---------------------------------------\n",
        "    \n",
        "       \n",
        "    return  ((likelihood*prior)/pz_value)"
      ],
      "execution_count": 0,
      "outputs": []
    },
    {
      "cell_type": "code",
      "metadata": {
        "nbgrader": {
          "grade": true,
          "grade_id": "Question 3",
          "locked": true,
          "points": "10",
          "solution": false
        },
        "id": "SAHpR3ADH5Gi",
        "colab_type": "code",
        "colab": {}
      },
      "source": [
        "#\n",
        "# AUTOGRADER TEST - DO NOT REMOVE\n",
        "#\n"
      ],
      "execution_count": 0,
      "outputs": []
    },
    {
      "cell_type": "markdown",
      "metadata": {
        "nbgrader": {
          "grade": false,
          "locked": true,
          "solution": false
        },
        "id": "otJfA1kUH5Gm",
        "colab_type": "text"
      },
      "source": [
        "#### Applicability\n",
        "\n",
        "In real life, this situation corresponds to:  \n",
        "1. Surveying people and asking them two questions (what's your age? do you watch YouTube every day?), then tabulating the percentage of each age group that watch YouTube everyday.\n",
        "2. After having collected that data, observing the anonymized watching habits of a set of different users (not the survey takers) - without access to additional demographic info -  and using the above survey to derive a probability for the anonymized users' age."
      ]
    },
    {
      "cell_type": "markdown",
      "metadata": {
        "nbgrader": {
          "grade": false,
          "locked": true,
          "solution": false
        },
        "id": "tjr7IzsJH5Gn",
        "colab_type": "text"
      },
      "source": [
        "### Bayesian Linear Regression\n",
        "\n",
        "In Bayesian Linear Regression, our prior expresses a belief about the parameters of linear regression we wish to calculate, namely that the linear coefficient vector should have a small absolute value, and that deviations from zero should be Gaussian. This prior is mathematically equivalent to the Ridge Regression condition.\n",
        "\n",
        "So the question we will now ask is: conditioned on the data, how does our belief regarding the parameters of linear regression change? \n",
        "\n",
        "This is the same prior-to-posterior calculation of the above exercise.  \n",
        "\n",
        "Bayes' Rule:\n",
        "\n",
        "$P(B|A) = \\frac{P(A|B)\\ P(B)}{P(A)}$,\n",
        "\n",
        "For linear Regression:\n",
        "\n",
        "$p(w | y, X) = \\frac{p(y | w, X)\\ p(w)}{p(y | X)}$  \n",
        "\n",
        "What do we know, and what do we not know?\n",
        "\n",
        "* $p(w) = N(0, \\lambda^{-1} I)$: That's the prior on $w$ --- Known.  \n",
        "\n",
        "\n",
        "* $p(y | w, X) = N(X w, \\sigma^2 I)$: That's the likelihood expression --- Known.  \n",
        "\n",
        "\n",
        "* $p(y | X)$: That's the marginal probability of $y$ --- NOT KNOWN\n",
        "\n",
        "Rewriting the marginal probability in detail, using an integral instead of a sum - since $w$ is a continuous variable.\n",
        "\n",
        "$p(y | X) = \\int_{\\mathbb{R^d}} p(y, w | X)\\ dw$\n",
        "\n",
        "$\\ \\ \\ \\ \\ \\ \\ \\ \\ \\ = \\int_{\\mathbb{R^d}}\\ p(y | w, X)\\  p(w)\\ dw$\n",
        "\n",
        "\n",
        "At this point approximation is frequently required as the above integral usually has no closed form.  \n",
        "\n",
        "<a id= \"code\"></a>\n",
        "\n",
        "### Coding Bayesian Linear Regression\n",
        "\n",
        "In lecture, we obtained an equation for the posterior probability of $w$, the linear regression parameter vector:\n",
        "\n",
        "$$p(w|y, X) = N(w|\\mu, \\Sigma)$$\n",
        "\n",
        "#### where\n",
        "\n",
        "$$\\Sigma = (\\lambda \\ I + \\sigma^{- 2}\\ X^T\\ X)^{−1}$$\n",
        "\n",
        "$$\\mu = (\\lambda \\ \\sigma^2 I + X^T\\ X)^{-1}\\ X^T y ⇐ w_{MAP}$$\n",
        "\n",
        "\n",
        "\n",
        "Recall that $\\sigma^2$ is a parameter characterizing the deviation of the data from the line defined by $Xw$. While we don't know the true underlying parameter, we can estimate it by using the empirical deviation:\n",
        "\n",
        "$$\\sigma^2 \\approx \\hat{\\sigma}^2 = \\frac{1}{n − d}\\Sigma_{i=1}^n ( y_i − X_i w )^2$$  \n",
        "Where $w$ in the above is the $w_{LeastSquares} = (X^T\\ X)^{-1}\\ X^T y$\n",
        "\n",
        "\n",
        "-----------------------\n",
        "When it comes to prediction:  \n",
        "$p( y_0|x_0,y,X) = N(y_0|\\mu_0,\\sigma^2_0)$  \n",
        "$\\ \\ \\ \\ \\ \\ \\ \\ \\ \\ \\ \\ \\ \\ \\ \\ \\mu_0 = x^T_0\\mu$  \n",
        "$\\ \\ \\ \\ \\ \\ \\ \\ \\ \\ \\ \\ \\ \\ \\ \\ \\sigma^2_0 = \\sigma^2 + x_0^T\\Sigma x_0$  \n",
        "\n",
        "-----------------------------\n",
        "This section will involve coding five functions:\n",
        "- `x_preprocess`\n",
        "- `calculate_map_coefficients`\n",
        "- `estimate_data_noise`\n",
        "- `calc_post_cov_mtx`\n",
        "- `predict` \n",
        "\n",
        "Such that the functions `fit_bayes_reg` and `predict_bayes_reg` - outlined below - will work correctly. "
      ]
    },
    {
      "cell_type": "code",
      "metadata": {
        "id": "rhmp0SFTH5Go",
        "colab_type": "code",
        "colab": {}
      },
      "source": [
        "def fit_bayes_reg(input_x, output_y, lambda_param):\n",
        "    \n",
        "    # Ensure correct shape of X, add column of 1's for intercept\n",
        "    aug_x = x_preprocess(input_x) # <----\n",
        "    \n",
        "    # Calculate least-squares weights\n",
        "    ml_weights = calculate_map_coefficients(aug_x, output_y, 0, 0) # <----\n",
        "        \n",
        "    # Estimate sigma^2 from observations\n",
        "    sigma = estimate_data_noise(aug_x, output_y, ml_weights) # <----\n",
        "    \n",
        "    # Calculate MAP weights\n",
        "    weights = calculate_map_coefficients(aug_x, output_y, lambda_param, sigma) # <---- \n",
        "\n",
        "    \n",
        "    # Create posterior covariance matrix\n",
        "    big_sig = calc_post_cov_mtx(aug_x, sigma, lambda_param) # <----\n",
        "    \n",
        "    return weights, big_sig\n",
        "\n",
        "def predict_bayes_reg(x_obs, weights, big_sig):\n",
        "    \n",
        "    # Ensure correct shape of X, add 1's for intercept\n",
        "    aug_x = x_preprocess(x_obs) # <----\n",
        "    \n",
        "    # find mean / variance parameters describing prediction for data\n",
        "    mu_0, sig_sq_0 = predict(aug_x, weights, big_sig) # <----\n",
        "    \n",
        "    return mu_0, sig_sq_0"
      ],
      "execution_count": 0,
      "outputs": []
    },
    {
      "cell_type": "markdown",
      "metadata": {
        "id": "Vr4SC5GfH5Gr",
        "colab_type": "text"
      },
      "source": [
        "#### Question 4: X-matrix preprocessing"
      ]
    },
    {
      "cell_type": "code",
      "metadata": {
        "id": "AxKw8AQeH5Gs",
        "colab_type": "code",
        "colab": {}
      },
      "source": [
        "### GRADED\n",
        "### Build a function called \"x_preprocess\"\n",
        "### ACCEPT one input, a numpy array\n",
        "### ### Array may be one or two dimensions\n",
        "\n",
        "### If input is two dimensional, make sure there are more rows than columns\n",
        "### ### Then prepend a column of ones for intercept term\n",
        "### If input is one-dimensional, prepend a one\n",
        "\n",
        "### RETURN a numpy array, prepared as described above,\n",
        "### which is now ready for matrix multiplication with regression weights\n",
        "\n",
        "def x_preprocess(input_x):\n",
        "    \"\"\"\n",
        "    Reshape the input (if needed), and prepend a \"1\" to every observation\n",
        "    \n",
        "    Positional Argument:\n",
        "        input_x -- a numpy array, one- or two-dimensional\n",
        "    \n",
        "    Example:\n",
        "        input1 = np.array([[2,3,6,9],[4,5,7,10]])\n",
        "        input2 = np.array([2,3,6])\n",
        "        input3 = np.array([[2,4],[3,5],[6,7],[9,10]])\n",
        "        \n",
        "        for i in [input1, input2, input3]:\n",
        "            print(x_preprocess(i), \"\\n\")\n",
        "            \n",
        "        # -->[[ 1.  2.  4.]\n",
        "              [ 1.  3.  5.]\n",
        "              [ 1.  6.  7.]\n",
        "              [ 1.  9. 10.]] \n",
        "\n",
        "            [1 2 3 6] \n",
        "\n",
        "            [[ 1.  2.  4.]\n",
        "             [ 1.  3.  5.]\n",
        "             [ 1.  6.  7.]\n",
        "             [ 1.  9. 10.]] \n",
        "\n",
        "    Assumptions:\n",
        "        Assume that if the input is two dimensional, that the observations are more numerous\n",
        "            than the features, and thus, the observations should be the rows, and features the columns\n",
        "    \"\"\"\n",
        "    # Check to see if 1 or 2 dimensions\n",
        "    shape = input_x.shape\n",
        "    \n",
        "    if len(shape) == 2: #2 demension\n",
        "      \n",
        "      if shape[0]<shape[1]:  # If wide, transpose to long // 1-by-n case\n",
        "        input_x = input_x.T\n",
        "        #input_x = np.transpose(input_x)\n",
        "        shape = input_x.shape\n",
        "        \n",
        "      # create column of ones\n",
        "      ones = np.ones((shape[0],1))\n",
        "      #ones = np.ones((len(input_x), 1), dtype=int) # Prepend ones to x matrix\n",
        "      \n",
        "      # add colum, of ones\n",
        "      augmented_x = np.concatenate((ones, input_x), axis = 1)\n",
        "    \n",
        "    else:  # If one-dimensional, simply prepend a 1\n",
        "      augmented_x = np.insert(input_x,0,1)\n",
        "      #augmented_x = np.append([1], input_x)\n",
        "   \n",
        "    return augmented_x"
      ],
      "execution_count": 0,
      "outputs": []
    },
    {
      "cell_type": "code",
      "metadata": {
        "nbgrader": {
          "grade": true,
          "grade_id": "Question 4",
          "locked": true,
          "points": "10",
          "solution": false
        },
        "id": "Fw8KU9KnH5Gv",
        "colab_type": "code",
        "colab": {}
      },
      "source": [
        "#\n",
        "# AUTOGRADER TEST - DO NOT REMOVE\n",
        "#\n"
      ],
      "execution_count": 0,
      "outputs": []
    },
    {
      "cell_type": "markdown",
      "metadata": {
        "id": "wTPx5BEZH5Gy",
        "colab_type": "text"
      },
      "source": [
        "\n",
        "#### Question 5: MAP Coefficients:\n",
        "\n",
        "$$\\mu = (\\lambda \\ \\sigma^2 I + X^T\\ X)^{-1}\\ X^T y = w_{MAP}$$ "
      ]
    },
    {
      "cell_type": "code",
      "metadata": {
        "id": "Ts0f-RPOH5Gz",
        "colab_type": "code",
        "colab": {}
      },
      "source": [
        "### GRADED\n",
        "### Build a function called `calculate_map_coefficients`\n",
        "\n",
        "### ACCEPT four inputs:\n",
        "### Two numpy arrays; an X-matrix and y-vector\n",
        "### Two positive numbers, a lambda parameter, and value for sigma^2\n",
        "\n",
        "### RETURN a 1-d numpy vector of weights.\n",
        "\n",
        "### ASSUME your x-matrix has been preprocessed:\n",
        "### observations are in rows, features in columns, and a column of 1's prepended.\n",
        "\n",
        "### Use the above equation to calculate the MAP weights.\n",
        "### ### This will involve creating the lambda matrix.\n",
        "### ### The MAP weights are equal to the Ridge Regression weights\n",
        "\n",
        "### NB: `.shape`, `np.matmul`, `np.linalg.inv`,\n",
        "### `np.ones`, `np.identity` and `np.transpose` will be valuable.\n",
        "\n",
        "### If either the \"sigma\" or \"lambda_param\" are equal to 0, the return will be\n",
        "### equivalent to ordinary least squares.\n",
        "\n",
        "### YOUR ANSWER BELOW\n",
        "\n",
        "def calculate_map_coefficients(aug_x, output_y, lambda_param, sigma):\n",
        "    \"\"\"\n",
        "    Calculate the maximum a posteriori LR parameters\n",
        "    \n",
        "     Positional arguments:\n",
        "        aug_x -- x-matrix of training input data, augmented with column of 1's\n",
        "        output_y -- vector of training output values\n",
        "        lambda_param -- positive number; lambda parameter that\n",
        "            controls how heavily to penalize large coefficient values\n",
        "        sigma -- data noise estimate\n",
        "        \n",
        "    Example:\n",
        "        output_y = np.array([208500, 181500, 223500, \n",
        "                             140000, 250000, 143000, \n",
        "                             307000, 200000, 129900, \n",
        "                             118000])\n",
        "                             \n",
        "        aug_x = np. array([[   1., 1710., 2003.],\n",
        "                           [   1., 1262., 1976.],\n",
        "                           [   1., 1786., 2001.],\n",
        "                           [   1., 1717., 1915.],\n",
        "                           [   1., 2198., 2000.],\n",
        "                           [   1., 1362., 1993.],\n",
        "                           [   1., 1694., 2004.],\n",
        "                           [   1., 2090., 1973.],\n",
        "                           [   1., 1774., 1931.],\n",
        "                           [   1., 1077., 1939.]])\n",
        "                           \n",
        "        lambda_param = 0.01\n",
        "        \n",
        "        sigma = 1000\n",
        "        \n",
        "        map_coef = calculate_map_coefficients(aug_x, output_y, \n",
        "                                             lambda_param, sigma)\n",
        "                                             \n",
        "        ml_coef = calculate_map_coefficients(aug_x, output_y, 0,0)\n",
        "        \n",
        "        print(map_coef)\n",
        "        # --> np.array([-576.67947107   77.45913349   31.50189177])\n",
        "        \n",
        "        print(ml_coef)\n",
        "        #--> np.array([-2.29223802e+06  5.92536529e+01  1.20780450e+03])\n",
        "        \n",
        "    Assumptions:\n",
        "        -- output_y is a vector whose length is the same as the\n",
        "        number of rows in input_x\n",
        "        -- input_x has more observations than it does features.\n",
        "        -- lambda_param has a value greater than 0\n",
        "    \"\"\"\n",
        "    #wMAP = [X^T * (λ*σ^2*I + X^T*X)-1] *y\n",
        "    # Create square lambda_matrix, with size equal to number of columns in X\n",
        "    # Create lambda_matrix: square, with size of columns in augmented x matrix, with the lambda_parameter times sigma on the diagonal\n",
        "    lambda_matrix = lambda_param * sigma* np.identity(aug_x.shape[1])  #np.identity(min(aug_x.shape))\n",
        "    \n",
        "    # Calculating inverse term\n",
        "    inver_num = np.linalg.inv(lambda_matrix + np.matmul(np.transpose(aug_x),aug_x))       \n",
        "    \n",
        "    coefs = np.matmul(np.matmul(inver_num, np.transpose(aug_x)),output_y )\n",
        "  \n",
        "    return coefs"
      ],
      "execution_count": 0,
      "outputs": []
    },
    {
      "cell_type": "code",
      "metadata": {
        "nbgrader": {
          "grade": true,
          "grade_id": "Question 5",
          "locked": true,
          "points": "20",
          "solution": false
        },
        "id": "q3NSx9IWH5G3",
        "colab_type": "code",
        "colab": {}
      },
      "source": [
        "#\n",
        "# AUTOGRADER TEST - DO NOT REMOVE\n",
        "#\n"
      ],
      "execution_count": 0,
      "outputs": []
    },
    {
      "cell_type": "markdown",
      "metadata": {
        "nbgrader": {
          "grade": false,
          "locked": true,
          "solution": false
        },
        "id": "kpC2Vuu0H5G5",
        "colab_type": "text"
      },
      "source": [
        "#### Question 6: Estimate Data Noise\n",
        "$$\\sigma^2 \\approx \\hat{\\sigma}^2 = \\frac{1}{n − d}\\Sigma_{i=1}^n ( y_i − X_i w )^2$$  "
      ]
    },
    {
      "cell_type": "code",
      "metadata": {
        "id": "qN1cBKC5H5G6",
        "colab_type": "code",
        "colab": {}
      },
      "source": [
        "### GRADED\n",
        "### Code a function called `esimate_data_noise`\n",
        "\n",
        "### ACCEPT three inputs, all numpy arrays\n",
        "### One matrix coresponding to the augmented x-matrix\n",
        "### Two vectors, one of the y-target, and one of ML weights.\n",
        "\n",
        "### RETURN the empirical data noise estimate: sigma^2. Calculated with equation given above.\n",
        "\n",
        "### NB: \"n\" is the number of observations in X (rows)\n",
        "### \"d\" is the number of features in aug_x (columns) \n",
        "\n",
        "### YOUR ANSWER BELOW\n",
        "\n",
        "def estimate_data_noise(aug_x, output_y, weights):\n",
        "    \"\"\"Return empirical data noise estimate \\sigma^2\n",
        "    Use the LR weights in the equation supplied above\n",
        "    \n",
        "    Positional arguments:\n",
        "        aug_x -- matrix of training input data\n",
        "        output_y -- vector of training output values\n",
        "        weights -- vector of LR weights calculated from output_y and aug_x\n",
        "        \n",
        "        \n",
        "    Example:\n",
        "        output_y = np.array([208500, 181500, 223500, \n",
        "                                140000, 250000, 143000, \n",
        "                                307000, 200000, 129900, \n",
        "                                118000])\n",
        "        aug_x = np. array([[   1., 1710., 2003.],\n",
        "                           [   1., 1262., 1976.],\n",
        "                           [   1., 1786., 2001.],\n",
        "                           [   1., 1717., 1915.],\n",
        "                           [   1., 2198., 2000.],\n",
        "                           [   1., 1362., 1993.],\n",
        "                           [   1., 1694., 2004.],\n",
        "                           [   1., 2090., 1973.],\n",
        "                           [   1., 1774., 1931.],\n",
        "                           [   1., 1077., 1939.]])\n",
        "        \n",
        "        ml_weights = calculate_map_coefficients(aug_x, output_y, 0, 0)\n",
        "        \n",
        "        print(ml_weights)\n",
        "        # --> [-2.29223802e+06  5.92536529e+01  1.20780450e+03]\n",
        "        \n",
        "        sig2 = estimate_data_noise(aug_x, output_y, ml_weights)\n",
        "        print(sig2)\n",
        "        #--> 1471223687.1593\n",
        "        \n",
        "    Assumptions:\n",
        "        -- training_input_y is a vector whose length is the same as the\n",
        "        number of rows in training_x\n",
        "        -- input x has more observations than it does features.\n",
        "        -- lambda_param has a value greater than 0\n",
        "    \"\"\"\n",
        "    # Assign n and d\n",
        "    n,d = aug_x.shape\n",
        "\n",
        "    # calculate difference between prediction and actual; square\n",
        "    sum_num = ((output_y - np.matmul(aug_x,weights))**2).sum()\n",
        "    final_noise = (sum_num / ( n - d))\n",
        "\n",
        "    return float(final_noise)"
      ],
      "execution_count": 0,
      "outputs": []
    },
    {
      "cell_type": "code",
      "metadata": {
        "nbgrader": {
          "grade": true,
          "grade_id": "Question 6",
          "locked": true,
          "points": "20",
          "solution": false
        },
        "id": "kB2MtSZHH5G_",
        "colab_type": "code",
        "colab": {}
      },
      "source": [
        "#\n",
        "# AUTOGRADER TEST - DO NOT REMOVE\n",
        "#\n"
      ],
      "execution_count": 0,
      "outputs": []
    },
    {
      "cell_type": "markdown",
      "metadata": {
        "nbgrader": {
          "grade": false,
          "locked": true,
          "solution": false
        },
        "id": "xTpZUav-H5HE",
        "colab_type": "text"
      },
      "source": [
        "#### Question 7: Posterier Covariance  \n",
        "\n",
        "$$\\Sigma = (\\lambda \\ I + \\sigma^{- 2}\\ X^T\\ X)^{−1}$$"
      ]
    },
    {
      "cell_type": "code",
      "metadata": {
        "id": "C7_Y3KSSH5HI",
        "colab_type": "code",
        "colab": {}
      },
      "source": [
        "### GRADED\n",
        "### Code a function called \"calc_post_cov_mtx\"\n",
        "### ACCEPT three inputs:\n",
        "### One numpy array for the augmented x-matrix\n",
        "### Two floats for sigma-squared and a lambda_param\n",
        "\n",
        "### Calculate the covariance matrix of the posterior (capital sigma), via equation given above.\n",
        "### RETURN that matrix.\n",
        "\n",
        "### YOUR ANSWER BELOW\n",
        "\n",
        "\n",
        "def calc_post_cov_mtx(aug_x, sigma, lambda_param):\n",
        "    \"\"\"\n",
        "    Calculate the covariance of the posterior for Bayesian parameters\n",
        "    \n",
        "    Positional arguments:\n",
        "        aug_x -- matrix of training input data; preprocessed\n",
        "        sigma -- estimation of sigma^2\n",
        "        lambda_param -- lambda parameter that controls how heavily\n",
        "        to penalize large weight values\n",
        "        \n",
        "    Example:\n",
        "        output_y = np.array([208500, 181500, 223500, \n",
        "                                140000, 250000, 143000, \n",
        "                                307000, 200000, 129900, \n",
        "                                118000])\n",
        "        aug_x = np. array([[   1., 1710., 2003.],\n",
        "                           [   1., 1262., 1976.],\n",
        "                           [   1., 1786., 2001.],\n",
        "                           [   1., 1717., 1915.],\n",
        "                           [   1., 2198., 2000.],\n",
        "                           [   1., 1362., 1993.],\n",
        "                           [   1., 1694., 2004.],\n",
        "                           [   1., 2090., 1973.],\n",
        "                           [   1., 1774., 1931.],\n",
        "                           [   1., 1077., 1939.]])\n",
        "        lambda_param = 0.01\n",
        "        \n",
        "        ml_weights = calculate_map_coefficients(aug_x, output_y,0,0)\n",
        "        \n",
        "        sigma = estimate_data_noise(aug_x, output_y, ml_weights)\n",
        "        \n",
        "        print(calc_post_cov_mtx(aug_x, sigma, lambda_param))\n",
        "        # --> [[ 9.99999874e+01 -1.95016334e-02 -2.48082095e-02]\n",
        "               [-1.95016334e-02  6.28700339e+01 -3.85675510e+01]\n",
        "               [-2.48082095e-02 -3.85675510e+01  5.10719826e+01]]\n",
        "\n",
        "    Assumptions:\n",
        "        -- training_input_y is a vector whose length is the same as the\n",
        "        number of rows in training_x\n",
        "        -- lambda_param has a value greater than 0\n",
        "    \n",
        "    \"\"\"\n",
        "    #Σ=(λ*I + σ^(−2)*X^T*X)−1\n",
        "    # Create lambda matrix\n",
        "    lambda_matrix = lambda_param * np.identity(min(aug_x.shape))\n",
        "    \n",
        "    # Implement equation: \n",
        "    big_sigma = np.linalg.inv(lambda_matrix + ((1/sigma)*np.matmul(np.transpose(aug_x),aug_x)))        \n",
        "    return big_sigma\n",
        "    "
      ],
      "execution_count": 0,
      "outputs": []
    },
    {
      "cell_type": "code",
      "metadata": {
        "nbgrader": {
          "grade": true,
          "grade_id": "Question 7",
          "locked": true,
          "points": "20",
          "solution": false
        },
        "scrolled": true,
        "id": "jFXMtkFxH5HM",
        "colab_type": "code",
        "colab": {}
      },
      "source": [
        "#\n",
        "# AUTOGRADER TEST - DO NOT REMOVE\n",
        "#\n"
      ],
      "execution_count": 0,
      "outputs": []
    },
    {
      "cell_type": "markdown",
      "metadata": {
        "nbgrader": {
          "grade": false,
          "locked": true,
          "solution": false
        },
        "id": "G2fJ9dWwH5HP",
        "colab_type": "text"
      },
      "source": [
        "Now we have functions for\n",
        "$$\\Sigma = (\\lambda \\ I + \\sigma^{- 2}\\ X^T\\ X)^{−1}$$\n",
        "$$\\mu = w_{map}=(\\lambda\\ \\sigma^2 I+X^TX)^{-1}X^Ty$$\n",
        "\n",
        "And thus, $p(w|y, X) = N(w|\\mu, \\Sigma)$, the posterior distribution of the linear regression parameters may be described.\n",
        "\n",
        "When we want to predict an unknown value, $y_0$ given observations $x_0$:  \n",
        "$p( y_0|x_0,y,X) = N(y_0|\\mu_0,\\sigma^2_0)$  \n",
        "$\\ \\ \\ \\ \\ \\ \\ \\ \\ \\ \\ \\ \\ \\ \\ \\ \\mu_0 = x^T_0\\mu$  \n",
        "$\\ \\ \\ \\ \\ \\ \\ \\ \\ \\ \\ \\ \\ \\ \\ \\ \\sigma^2_0 = \\sigma^2 + x_0^T\\Sigma x_0$  \n",
        "\n",
        "#### Question 8"
      ]
    },
    {
      "cell_type": "code",
      "metadata": {
        "id": "Ok4Rn9UvH5HQ",
        "colab_type": "code",
        "colab": {}
      },
      "source": [
        "### GRADED\n",
        "### Code a function called \"predict\"\n",
        "### ACCEPT four inputs, three numpy arrays, and one number:\n",
        "### A 1-dimensional array corresponding to an augmented_x vector.\n",
        "### A vector corresponding to the MAP weights, or \"mu\"\n",
        "### A square matrix for the \"big_sigma\" term\n",
        "### A positive number for the \"sigma_squared\" term\n",
        "\n",
        "### Using the above equations\n",
        "\n",
        "### RETURN mu_0 and sigma_squared_0 - a point estimate and variance\n",
        "### for the prediction for x.\n",
        "\n",
        "### YOUR ANSWER BELOW\n",
        "\n",
        "def predict( aug_x, weights, big_sig, sigma):\n",
        "    \"\"\"\n",
        "    Calculate point estimates and uncertainty for new values of x\n",
        "    \n",
        "    Positional Arguments:\n",
        "        aug_x -- augmented matrix of observations for predictions\n",
        "        weights -- MAP weights calculated from Bayesian LR\n",
        "        big_sig -- The posterior covarience matrix, from Bayesian LR\n",
        "        sigma -- The observed uncertainty in Bayesian LR\n",
        "        \n",
        "    Example:\n",
        "        output_y = np.array([208500, 181500, 223500, \n",
        "                                140000, 250000, 143000, \n",
        "                                307000, 200000, 129900, \n",
        "                                118000])\n",
        "                                \n",
        "        aug_x = np. array([[   1., 1710., 2003.],\n",
        "                           [   1., 1262., 1976.],\n",
        "                           [   1., 1786., 2001.],\n",
        "                           [   1., 1717., 1915.],\n",
        "                           [   1., 2198., 2000.],\n",
        "                           [   1., 1362., 1993.],\n",
        "                           [   1., 1694., 2004.],\n",
        "                           [   1., 2090., 1973.],\n",
        "                           [   1., 1774., 1931.],\n",
        "                           [   1., 1077., 1939.]])\n",
        "        lambda_param = 0.01\n",
        "        \n",
        "        ml_weights = calculate_map_coefficients(aug_x, output_y,0,0)\n",
        "        \n",
        "        sigma = estimate_data_noise(aug_x, output_y, ml_weights)\n",
        "        \n",
        "        map_weights = calculate_map_coefficients(aug_x, output_y, lambda_param, sigma)\n",
        "        \n",
        "        big_sig = calc_post_cov_mtx(aug_x, sigma, lambda_param)\n",
        "        \n",
        "        to_pred2 = np.array([1,1700,1980])\n",
        "        \n",
        "        print(predict(to_pred2, map_weights, big_sig, sigma))\n",
        "        #-->(158741.6306608729, 1593503867.9060116)\n",
        "        \n",
        "    \"\"\"\n",
        "    mu_0 = np.matmul(aug_x.T,weights)    # μ0=x(T~0)*μ\n",
        "   \n",
        "    sigma_squared_0 = sigma + np.matmul(np.matmul(aug_x.T, big_sig), aug_x)  #σ(0)^2 = σ^2 + x(T~0) * Σ * x0\n",
        "   \n",
        "    return mu_0 , sigma_squared_0"
      ],
      "execution_count": 0,
      "outputs": []
    },
    {
      "cell_type": "code",
      "metadata": {
        "nbgrader": {
          "grade": true,
          "grade_id": "Question 8",
          "locked": true,
          "points": "15",
          "solution": false
        },
        "id": "88pSB-N1H5HV",
        "colab_type": "code",
        "colab": {}
      },
      "source": [
        "#\n",
        "# AUTOGRADER TEST - DO NOT REMOVE\n",
        "#\n"
      ],
      "execution_count": 0,
      "outputs": []
    },
    {
      "cell_type": "markdown",
      "metadata": {
        "nbgrader": {
          "grade": false,
          "locked": true,
          "solution": false
        },
        "id": "blMPen3nH5HY",
        "colab_type": "text"
      },
      "source": [
        "<a id = \"data\"></a>\n",
        "### Data Refresher  \n",
        "\n",
        "Once again, we will be using the Bayesian regression functions on house price data. Observations from this data will be used to test the functions you have created."
      ]
    },
    {
      "cell_type": "code",
      "metadata": {
        "id": "Vw_7CjC2YMgg",
        "colab_type": "code",
        "outputId": "d831f7e2-b2b3-48af-8f1a-9617a093da7a",
        "colab": {
          "base_uri": "https://localhost:8080/",
          "height": 190
        }
      },
      "source": [
        "from google.colab import drive\n",
        "drive.mount('/content/drive')\n",
        "\n",
        "DATA_PATH = \"/content/drive/My Drive/AI in Columbia/\"\n",
        "!ls \"/content/drive/My Drive/AI in Columbia\"\n"
      ],
      "execution_count": 0,
      "outputs": [
        {
          "output_type": "stream",
          "text": [
            "Go to this URL in a browser: https://accounts.google.com/o/oauth2/auth?client_id=947318989803-6bn6qk8qdgf4n4g3pfee6491hc0brc4i.apps.googleusercontent.com&redirect_uri=urn%3Aietf%3Awg%3Aoauth%3A2.0%3Aoob&scope=email%20https%3A%2F%2Fwww.googleapis.com%2Fauth%2Fdocs.test%20https%3A%2F%2Fwww.googleapis.com%2Fauth%2Fdrive%20https%3A%2F%2Fwww.googleapis.com%2Fauth%2Fdrive.photos.readonly%20https%3A%2F%2Fwww.googleapis.com%2Fauth%2Fpeopleapi.readonly&response_type=code\n",
            "\n",
            "Enter your authorization code:\n",
            "··········\n",
            "Mounted at /content/drive\n",
            "'1W Liner Regression Assignment_1.ipynb'   sample_submission.csv\n",
            "'2W Ridge Regress.ipynb'\t\t   test.csv\n",
            "'3W Bayesian Linear Regression.ipynb'\t   train.csv\n",
            " Extension--+pymc3+Demonstration.ipynb\t   Untitled0.ipynb\n"
          ],
          "name": "stdout"
        }
      ]
    },
    {
      "cell_type": "code",
      "metadata": {
        "nbgrader": {
          "grade": false,
          "locked": true,
          "solution": false
        },
        "id": "erFqNMJkH5HZ",
        "colab_type": "code",
        "outputId": "3ae8b329-45a2-445b-d7f6-d2d19fa1f648",
        "colab": {
          "base_uri": "https://localhost:8080/",
          "height": 253
        }
      },
      "source": [
        "### Read in the data\n",
        "tr_path =DATA_PATH+\"train.csv\"\n",
        "test_path = DATA_PATH+\"test.csv\"\n",
        "\n",
        "data = pd.read_csv(tr_path) \n",
        "\n",
        "### The .head() function shows the first few lines of data for perspecitve\n",
        "data.head()"
      ],
      "execution_count": 0,
      "outputs": [
        {
          "output_type": "execute_result",
          "data": {
            "text/html": [
              "<div>\n",
              "<style scoped>\n",
              "    .dataframe tbody tr th:only-of-type {\n",
              "        vertical-align: middle;\n",
              "    }\n",
              "\n",
              "    .dataframe tbody tr th {\n",
              "        vertical-align: top;\n",
              "    }\n",
              "\n",
              "    .dataframe thead th {\n",
              "        text-align: right;\n",
              "    }\n",
              "</style>\n",
              "<table border=\"1\" class=\"dataframe\">\n",
              "  <thead>\n",
              "    <tr style=\"text-align: right;\">\n",
              "      <th></th>\n",
              "      <th>Id</th>\n",
              "      <th>MSSubClass</th>\n",
              "      <th>MSZoning</th>\n",
              "      <th>LotFrontage</th>\n",
              "      <th>LotArea</th>\n",
              "      <th>Street</th>\n",
              "      <th>Alley</th>\n",
              "      <th>LotShape</th>\n",
              "      <th>LandContour</th>\n",
              "      <th>Utilities</th>\n",
              "      <th>...</th>\n",
              "      <th>PoolArea</th>\n",
              "      <th>PoolQC</th>\n",
              "      <th>Fence</th>\n",
              "      <th>MiscFeature</th>\n",
              "      <th>MiscVal</th>\n",
              "      <th>MoSold</th>\n",
              "      <th>YrSold</th>\n",
              "      <th>SaleType</th>\n",
              "      <th>SaleCondition</th>\n",
              "      <th>SalePrice</th>\n",
              "    </tr>\n",
              "  </thead>\n",
              "  <tbody>\n",
              "    <tr>\n",
              "      <th>0</th>\n",
              "      <td>1</td>\n",
              "      <td>60</td>\n",
              "      <td>RL</td>\n",
              "      <td>65.0</td>\n",
              "      <td>8450</td>\n",
              "      <td>Pave</td>\n",
              "      <td>NaN</td>\n",
              "      <td>Reg</td>\n",
              "      <td>Lvl</td>\n",
              "      <td>AllPub</td>\n",
              "      <td>...</td>\n",
              "      <td>0</td>\n",
              "      <td>NaN</td>\n",
              "      <td>NaN</td>\n",
              "      <td>NaN</td>\n",
              "      <td>0</td>\n",
              "      <td>2</td>\n",
              "      <td>2008</td>\n",
              "      <td>WD</td>\n",
              "      <td>Normal</td>\n",
              "      <td>208500</td>\n",
              "    </tr>\n",
              "    <tr>\n",
              "      <th>1</th>\n",
              "      <td>2</td>\n",
              "      <td>20</td>\n",
              "      <td>RL</td>\n",
              "      <td>80.0</td>\n",
              "      <td>9600</td>\n",
              "      <td>Pave</td>\n",
              "      <td>NaN</td>\n",
              "      <td>Reg</td>\n",
              "      <td>Lvl</td>\n",
              "      <td>AllPub</td>\n",
              "      <td>...</td>\n",
              "      <td>0</td>\n",
              "      <td>NaN</td>\n",
              "      <td>NaN</td>\n",
              "      <td>NaN</td>\n",
              "      <td>0</td>\n",
              "      <td>5</td>\n",
              "      <td>2007</td>\n",
              "      <td>WD</td>\n",
              "      <td>Normal</td>\n",
              "      <td>181500</td>\n",
              "    </tr>\n",
              "    <tr>\n",
              "      <th>2</th>\n",
              "      <td>3</td>\n",
              "      <td>60</td>\n",
              "      <td>RL</td>\n",
              "      <td>68.0</td>\n",
              "      <td>11250</td>\n",
              "      <td>Pave</td>\n",
              "      <td>NaN</td>\n",
              "      <td>IR1</td>\n",
              "      <td>Lvl</td>\n",
              "      <td>AllPub</td>\n",
              "      <td>...</td>\n",
              "      <td>0</td>\n",
              "      <td>NaN</td>\n",
              "      <td>NaN</td>\n",
              "      <td>NaN</td>\n",
              "      <td>0</td>\n",
              "      <td>9</td>\n",
              "      <td>2008</td>\n",
              "      <td>WD</td>\n",
              "      <td>Normal</td>\n",
              "      <td>223500</td>\n",
              "    </tr>\n",
              "    <tr>\n",
              "      <th>3</th>\n",
              "      <td>4</td>\n",
              "      <td>70</td>\n",
              "      <td>RL</td>\n",
              "      <td>60.0</td>\n",
              "      <td>9550</td>\n",
              "      <td>Pave</td>\n",
              "      <td>NaN</td>\n",
              "      <td>IR1</td>\n",
              "      <td>Lvl</td>\n",
              "      <td>AllPub</td>\n",
              "      <td>...</td>\n",
              "      <td>0</td>\n",
              "      <td>NaN</td>\n",
              "      <td>NaN</td>\n",
              "      <td>NaN</td>\n",
              "      <td>0</td>\n",
              "      <td>2</td>\n",
              "      <td>2006</td>\n",
              "      <td>WD</td>\n",
              "      <td>Abnorml</td>\n",
              "      <td>140000</td>\n",
              "    </tr>\n",
              "    <tr>\n",
              "      <th>4</th>\n",
              "      <td>5</td>\n",
              "      <td>60</td>\n",
              "      <td>RL</td>\n",
              "      <td>84.0</td>\n",
              "      <td>14260</td>\n",
              "      <td>Pave</td>\n",
              "      <td>NaN</td>\n",
              "      <td>IR1</td>\n",
              "      <td>Lvl</td>\n",
              "      <td>AllPub</td>\n",
              "      <td>...</td>\n",
              "      <td>0</td>\n",
              "      <td>NaN</td>\n",
              "      <td>NaN</td>\n",
              "      <td>NaN</td>\n",
              "      <td>0</td>\n",
              "      <td>12</td>\n",
              "      <td>2008</td>\n",
              "      <td>WD</td>\n",
              "      <td>Normal</td>\n",
              "      <td>250000</td>\n",
              "    </tr>\n",
              "  </tbody>\n",
              "</table>\n",
              "<p>5 rows × 81 columns</p>\n",
              "</div>"
            ],
            "text/plain": [
              "   Id  MSSubClass MSZoning  LotFrontage  LotArea Street Alley LotShape  \\\n",
              "0   1          60       RL         65.0     8450   Pave   NaN      Reg   \n",
              "1   2          20       RL         80.0     9600   Pave   NaN      Reg   \n",
              "2   3          60       RL         68.0    11250   Pave   NaN      IR1   \n",
              "3   4          70       RL         60.0     9550   Pave   NaN      IR1   \n",
              "4   5          60       RL         84.0    14260   Pave   NaN      IR1   \n",
              "\n",
              "  LandContour Utilities    ...     PoolArea PoolQC Fence MiscFeature MiscVal  \\\n",
              "0         Lvl    AllPub    ...            0    NaN   NaN         NaN       0   \n",
              "1         Lvl    AllPub    ...            0    NaN   NaN         NaN       0   \n",
              "2         Lvl    AllPub    ...            0    NaN   NaN         NaN       0   \n",
              "3         Lvl    AllPub    ...            0    NaN   NaN         NaN       0   \n",
              "4         Lvl    AllPub    ...            0    NaN   NaN         NaN       0   \n",
              "\n",
              "  MoSold YrSold  SaleType  SaleCondition  SalePrice  \n",
              "0      2   2008        WD         Normal     208500  \n",
              "1      5   2007        WD         Normal     181500  \n",
              "2      9   2008        WD         Normal     223500  \n",
              "3      2   2006        WD        Abnorml     140000  \n",
              "4     12   2008        WD         Normal     250000  \n",
              "\n",
              "[5 rows x 81 columns]"
            ]
          },
          "metadata": {
            "tags": []
          },
          "execution_count": 12
        }
      ]
    },
    {
      "cell_type": "code",
      "metadata": {
        "nbgrader": {
          "grade": false,
          "locked": true,
          "solution": false
        },
        "id": "QwiJnUo_H5Hd",
        "colab_type": "code",
        "outputId": "34784c5f-a29f-4d68-8d69-2a14590c9f26",
        "colab": {
          "base_uri": "https://localhost:8080/",
          "height": 606
        }
      },
      "source": [
        "data.plot('GrLivArea', 'SalePrice', kind = 'scatter', marker = 'x');"
      ],
      "execution_count": 0,
      "outputs": [
        {
          "output_type": "display_data",
          "data": {
            "image/png": "[encoded data removed]",
            "text/plain": [
              "<matplotlib.figure.Figure at 0x7f60a3fd5748>"
            ]
          },
          "metadata": {
            "tags": []
          }
        }
      ]
    },
    {
      "cell_type": "code",
      "metadata": {
        "nbgrader": {
          "grade": false,
          "locked": true,
          "solution": false
        },
        "id": "YMZPTNuHH5Hh",
        "colab_type": "code",
        "outputId": "810a0518-ed53-4ef8-bc09-aaade31b239e",
        "colab": {
          "base_uri": "https://localhost:8080/",
          "height": 606
        }
      },
      "source": [
        "data.plot('YearBuilt', 'SalePrice', kind = 'scatter', marker = 'x');"
      ],
      "execution_count": 0,
      "outputs": [
        {
          "output_type": "display_data",
          "data": {
            "image/png": "[encoded data removed]",
            "text/plain": [
              "<matplotlib.figure.Figure at 0x7f60a10aa9e8>"
            ]
          },
          "metadata": {
            "tags": []
          }
        }
      ]
    },
    {
      "cell_type": "markdown",
      "metadata": {
        "nbgrader": {
          "grade": false,
          "locked": true,
          "solution": false
        },
        "id": "DK6HQV0cH5Hl",
        "colab_type": "text"
      },
      "source": [
        "#### Question 9: On Housing Data\n",
        "\n",
        "Use your functions above to return a $\\Sigma$ and $\\mu$ for our housing dataset.\n",
        "\n",
        "Use \"SalePrice\" as the target, and \"GrLivArea\" and \"YearBuilt\" as predictors. Keep \"GrLivArea\" and \"YearBuild\", in that order. (Order is important for grading.)  \n",
        "\n",
        "e.g.\n",
        "```\n",
        "input_x = data[['GrLivArea, 'YearBuilt']].values\n",
        "```\n",
        "\n",
        "Use .1 for $\\lambda$ \n",
        "\n",
        "Below, return the $\\mu$ vector to the variable \"mu\"  \n",
        "\n",
        "Return the $\\Sigma$ matrix to the variable \"big_sig\"\n",
        "\n",
        "Remember, the `fit_bayes_reg` function should work if you defined the above equations correctly."
      ]
    },
    {
      "cell_type": "code",
      "metadata": {
        "id": "vk0ZYjWMH5Hm",
        "colab_type": "code",
        "outputId": "f38772c7-565e-4d9a-c51d-4aab293dd7e7",
        "colab": {
          "base_uri": "https://localhost:8080/",
          "height": 85
        }
      },
      "source": [
        "### GRADED\n",
        "### Follow directions above\n",
        "### YOUR ANSWER BELOW\n",
        "\n",
        "\"\"\"\n",
        "Example:\n",
        "    input_x = data[['GrLivArea','YearBuilt']].head(100).values\n",
        "    output_y = data['SalePrice'].head(100).values\n",
        "    lambda_param = .1\n",
        "    \n",
        "    < --- CODE BLOCK --->\n",
        "    \n",
        "    print(mu)\n",
        "    #--> np.array([2.10423243e-02, 4.10449281e+01, 4.22635006e+01])\n",
        "    print(big_sig)\n",
        "    #--> \n",
        "    np.array([[ 9.99999861e+00, -1.75179751e-03, -2.74204060e-03],\n",
        "              [-1.75179751e-03,  6.50420674e+00, -3.47271893e+00],\n",
        "              [-2.74204060e-03, -3.47271893e+00,  4.60297584e+00]])\n",
        "\"\"\"\n",
        "input_x = data[['GrLivArea','YearBuilt']].values\n",
        "output_y = data['SalePrice'].values\n",
        "lambda_param = .1\n",
        "\n",
        "aug_x = x_preprocess(input_x)\n",
        "  \n",
        "ml_weights = calculate_map_coefficients(aug_x, output_y,0,0)\n",
        "sigma = estimate_data_noise(aug_x, output_y, ml_weights)\n",
        "\n",
        "mu = calculate_map_coefficients(aug_x, output_y, lambda_param, sigma)\n",
        "big_sig = calc_post_cov_mtx(aug_x, sigma, lambda_param)\n",
        "\n",
        "print(mu)     #--> np.array([2.10423243e-02, 4.10449281e+01, 4.22635006e+01])\n",
        "print(big_sig) \n",
        "\n"
      ],
      "execution_count": 0,
      "outputs": [
        {
          "output_type": "stream",
          "text": [
            "[1.30269779e-02 7.61463982e+01 3.22497911e+01]\n",
            "[[ 9.99999791e+00 -1.08590728e-03 -4.07900078e-03]\n",
            " [-1.08590728e-03  2.95544603e+00 -2.18957015e+00]\n",
            " [-4.07900078e-03 -2.18957015e+00  1.99320832e+00]]\n"
          ],
          "name": "stdout"
        }
      ]
    },
    {
      "cell_type": "code",
      "metadata": {
        "nbgrader": {
          "grade": true,
          "grade_id": "Question 9",
          "locked": true,
          "points": "10",
          "solution": false
        },
        "scrolled": true,
        "id": "nnxPWHaxH5Ht",
        "colab_type": "code",
        "colab": {}
      },
      "source": [
        "#\n",
        "# AUTOGRADER TEST - DO NOT REMOVE\n",
        "#\n"
      ],
      "execution_count": 0,
      "outputs": []
    },
    {
      "cell_type": "markdown",
      "metadata": {
        "nbgrader": {
          "grade": false,
          "locked": true,
          "solution": false
        },
        "id": "mmSHtvfpH5Hw",
        "colab_type": "text"
      },
      "source": [
        "Remeber to check out the other notebook for a demonstration of `pymc3`"
      ]
    }
  ]
}