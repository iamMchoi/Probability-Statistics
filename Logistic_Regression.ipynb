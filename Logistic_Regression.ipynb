{
  "nbformat": 4,
  "nbformat_minor": 0,
  "metadata": {
    "colab": {
      "name": "Logistic Regression.ipynb",
      "provenance": [],
      "collapsed_sections": [],
      "include_colab_link": true
    },
    "kernelspec": {
      "name": "python3",
      "display_name": "Python 3"
    },
    "accelerator": "GPU"
  },
  "cells": [
    {
      "cell_type": "markdown",
      "metadata": {
        "id": "view-in-github",
        "colab_type": "text"
      },
      "source": [
        "<a href=\"https://colab.research.google.com/github/iamMchoi/Probability-Statistics/blob/master/Logistic_Regression.ipynb\" target=\"_parent\"><img src=\"https://colab.research.google.com/assets/colab-badge.svg\" alt=\"Open In Colab\"/></a>"
      ]
    },
    {
      "cell_type": "markdown",
      "metadata": {
        "nbgrader": {
          "grade": false,
          "locked": true,
          "solution": false
        },
        "id": "BVZEwVfWzOpW",
        "colab_type": "text"
      },
      "source": [
        "# Logistic Regression  \n",
        "\n",
        "---------------\n",
        "\n",
        "_Authors: Khal Makhoul, W.P.G.Peterson_   \n",
        "\n",
        "## Project Guide\n",
        "------------\n",
        "- [Project Overview](#overview)\n",
        "- [Introduction and Review](#intro)\n",
        "- [Data Exploration](#data)\n",
        "- [Coding Logistic Regression](#code)\n",
        "- [Logistic Regression in `sklearn`](#sklearn)\n",
        "\n",
        "<a id = \"overview\"></a>\n",
        "## Project Overview  \n",
        "-------------\n",
        "#### EXPECTED TIME 3 HRS\n",
        "\n",
        "This assignment will work through the definition of a Logistic Regression function in `Python`. After a summary of the equations that will be used, and a brief EDA of the \"Titanic\" data we will be using, you will be asked to define a number of functions which will, in sum, create a Logistic Regression.  \n",
        "A demonstration of `sklearn`'s implementation of Logistic Regression will close the assignment.\n",
        "\n",
        "\n",
        "You will be asked to code functions to do the following:\n",
        "1. Implement the Logistic Regression Algorithm\n",
        "    - Calculate the value of the sigmoid function\n",
        "    - Calculate the gradient of the log-likelihood with respect to $w$\n",
        "    - Sum the gradients of the log-likelihood with respect to $w$\n",
        "2. Execute logistic regression, stopping after a particular iteration\n",
        "3. Determine convergence of the logistic regression algorithm\n",
        "\n",
        "**Motivation**: Logistic Regression offers a way to to create a fairly interpretable parametic model for binary classification.\n",
        "\n",
        "**Problem**: Using Logistic Regression, predict whether or not a passenger survived the sinking of the Titanic.\n",
        "\n",
        "**Data**: The data for today comes from [Kaggle's Titanic Data](https://www.kaggle.com/c/titanic/data)  \n",
        "\n",
        "Please see above link for a more complete description of the data.\n",
        "\n",
        "**Grading**: NOTE, THE FINAL TWO CELLS IN THIS NOTEBOOK WILL CAUSE GRADING TO RUN SLOWLY. IF YOU WANT TO SPEED UP THE GRADING PROCESS, KEEP CODE IN THE LAST TWO CELLS COMMENTED OUT.\n",
        "\n",
        "<a id = \"intro\"></a>\n",
        "\n",
        "### Introduction and Review\n",
        "\n",
        "The lectures this week derived all of the equations that used in this assignment.  \n",
        "\n",
        "Recall that the likelihood for Logistic Regression is given by:\n",
        "\n",
        "$$p(y_1,\\ ...,\\ y_n\\ |\\ x_1,\\ ...,\\ x_n,\\ w)\\ =\\prod\\limits_{i=1}^n\\ \\sigma_i(y_i \\cdot w)$$  \n",
        "\n",
        "For coding purposes, we need the expression for the gradient of the log-likelihood with respect to $w$:\n",
        "\n",
        "\n",
        "$$\\nabla_w \\mathcal{L} = \\sum_{i = 1}^n (1 − \\sigma_i(y_i \\cdot w))\\ y_i x_i$$  \n",
        "\n",
        "Where: $$\\sigma_i(y_i \\cdot w) = \\frac{e^{y_iX_i^Tw}}{1+e^{y_ix_i^Tw}}$$  \n",
        "\n",
        "\n",
        "<a id = \"data\"></a>\n",
        "### Data Exploration\n",
        "\n",
        "This assignment will analyze data from the Titanic passenger manifest. Demographic and trip information for each passenger is coupled with whether or not they survived the disaster.\n",
        "\n",
        "Start by examining the data as usual:"
      ]
    },
    {
      "cell_type": "code",
      "metadata": {
        "id": "b4pjVbtX0mHJ",
        "colab_type": "code",
        "outputId": "3bd89d28-492c-4292-8d1e-279c8108932e",
        "colab": {
          "base_uri": "https://localhost:8080/",
          "height": 122
        }
      },
      "source": [
        "from google.colab import drive\n",
        "drive.mount('/content/drive')"
      ],
      "execution_count": 0,
      "outputs": [
        {
          "output_type": "stream",
          "text": [
            "Go to this URL in a browser: https://accounts.google.com/o/oauth2/auth?client_id=947318989803-6bn6qk8qdgf4n4g3pfee6491hc0brc4i.apps.googleusercontent.com&redirect_uri=urn%3Aietf%3Awg%3Aoauth%3A2.0%3Aoob&scope=email%20https%3A%2F%2Fwww.googleapis.com%2Fauth%2Fdocs.test%20https%3A%2F%2Fwww.googleapis.com%2Fauth%2Fdrive%20https%3A%2F%2Fwww.googleapis.com%2Fauth%2Fdrive.photos.readonly%20https%3A%2F%2Fwww.googleapis.com%2Fauth%2Fpeopleapi.readonly&response_type=code\n",
            "\n",
            "Enter your authorization code:\n",
            "··········\n",
            "Mounted at /content/drive\n"
          ],
          "name": "stdout"
        }
      ]
    },
    {
      "cell_type": "code",
      "metadata": {
        "id": "4U-xAF1e0rd_",
        "colab_type": "code",
        "outputId": "f755838c-291d-4bb2-c577-12f3ae0913a1",
        "colab": {
          "base_uri": "https://localhost:8080/",
          "height": 34
        }
      },
      "source": [
        "DATA_PATH = \"/content/drive/My Drive/AI in Columbia/Titanic/\"\n",
        "!ls \"/content/drive/My Drive/AI in Columbia/Titanic\"\n"
      ],
      "execution_count": 0,
      "outputs": [
        {
          "output_type": "stream",
          "text": [
            "gender_submission.csv  test.csv  train.csv\n"
          ],
          "name": "stdout"
        }
      ]
    },
    {
      "cell_type": "code",
      "metadata": {
        "nbgrader": {
          "grade": false,
          "locked": true,
          "solution": false
        },
        "id": "O4N5SoGlzOpX",
        "colab_type": "code",
        "outputId": "6dc09d91-24d7-435f-e801-9df3ae2007b2",
        "colab": {
          "base_uri": "https://localhost:8080/",
          "height": 266
        }
      },
      "source": [
        "# Import the necessary modules and sets a few plotting parameters for display\n",
        "\n",
        "%matplotlib inline\n",
        "import pandas as pd\n",
        "import matplotlib.pyplot as plt\n",
        "import numpy as np\n",
        "plt.rcParams['figure.figsize'] = (20.0, 10.0)\n",
        "\n",
        "# Load the data into a `pandas` DataFrame object\n",
        "tr_path = DATA_PATH+\"train.csv\"\n",
        "titanic_df = pd.read_csv(tr_path)\n",
        "\n",
        "# Examine head of df\n",
        "titanic_df.head(7)"
      ],
      "execution_count": 0,
      "outputs": [
        {
          "output_type": "execute_result",
          "data": {
            "text/html": [
              "<div>\n",
              "<style scoped>\n",
              "    .dataframe tbody tr th:only-of-type {\n",
              "        vertical-align: middle;\n",
              "    }\n",
              "\n",
              "    .dataframe tbody tr th {\n",
              "        vertical-align: top;\n",
              "    }\n",
              "\n",
              "    .dataframe thead th {\n",
              "        text-align: right;\n",
              "    }\n",
              "</style>\n",
              "<table border=\"1\" class=\"dataframe\">\n",
              "  <thead>\n",
              "    <tr style=\"text-align: right;\">\n",
              "      <th></th>\n",
              "      <th>PassengerId</th>\n",
              "      <th>Survived</th>\n",
              "      <th>Pclass</th>\n",
              "      <th>Name</th>\n",
              "      <th>Sex</th>\n",
              "      <th>Age</th>\n",
              "      <th>SibSp</th>\n",
              "      <th>Parch</th>\n",
              "      <th>Ticket</th>\n",
              "      <th>Fare</th>\n",
              "      <th>Cabin</th>\n",
              "      <th>Embarked</th>\n",
              "    </tr>\n",
              "  </thead>\n",
              "  <tbody>\n",
              "    <tr>\n",
              "      <th>0</th>\n",
              "      <td>1</td>\n",
              "      <td>0</td>\n",
              "      <td>3</td>\n",
              "      <td>Braund, Mr. Owen Harris</td>\n",
              "      <td>male</td>\n",
              "      <td>22.0</td>\n",
              "      <td>1</td>\n",
              "      <td>0</td>\n",
              "      <td>A/5 21171</td>\n",
              "      <td>7.2500</td>\n",
              "      <td>NaN</td>\n",
              "      <td>S</td>\n",
              "    </tr>\n",
              "    <tr>\n",
              "      <th>1</th>\n",
              "      <td>2</td>\n",
              "      <td>1</td>\n",
              "      <td>1</td>\n",
              "      <td>Cumings, Mrs. John Bradley (Florence Briggs Th...</td>\n",
              "      <td>female</td>\n",
              "      <td>38.0</td>\n",
              "      <td>1</td>\n",
              "      <td>0</td>\n",
              "      <td>PC 17599</td>\n",
              "      <td>71.2833</td>\n",
              "      <td>C85</td>\n",
              "      <td>C</td>\n",
              "    </tr>\n",
              "    <tr>\n",
              "      <th>2</th>\n",
              "      <td>3</td>\n",
              "      <td>1</td>\n",
              "      <td>3</td>\n",
              "      <td>Heikkinen, Miss. Laina</td>\n",
              "      <td>female</td>\n",
              "      <td>26.0</td>\n",
              "      <td>0</td>\n",
              "      <td>0</td>\n",
              "      <td>STON/O2. 3101282</td>\n",
              "      <td>7.9250</td>\n",
              "      <td>NaN</td>\n",
              "      <td>S</td>\n",
              "    </tr>\n",
              "    <tr>\n",
              "      <th>3</th>\n",
              "      <td>4</td>\n",
              "      <td>1</td>\n",
              "      <td>1</td>\n",
              "      <td>Futrelle, Mrs. Jacques Heath (Lily May Peel)</td>\n",
              "      <td>female</td>\n",
              "      <td>35.0</td>\n",
              "      <td>1</td>\n",
              "      <td>0</td>\n",
              "      <td>113803</td>\n",
              "      <td>53.1000</td>\n",
              "      <td>C123</td>\n",
              "      <td>S</td>\n",
              "    </tr>\n",
              "    <tr>\n",
              "      <th>4</th>\n",
              "      <td>5</td>\n",
              "      <td>0</td>\n",
              "      <td>3</td>\n",
              "      <td>Allen, Mr. William Henry</td>\n",
              "      <td>male</td>\n",
              "      <td>35.0</td>\n",
              "      <td>0</td>\n",
              "      <td>0</td>\n",
              "      <td>373450</td>\n",
              "      <td>8.0500</td>\n",
              "      <td>NaN</td>\n",
              "      <td>S</td>\n",
              "    </tr>\n",
              "    <tr>\n",
              "      <th>5</th>\n",
              "      <td>6</td>\n",
              "      <td>0</td>\n",
              "      <td>3</td>\n",
              "      <td>Moran, Mr. James</td>\n",
              "      <td>male</td>\n",
              "      <td>NaN</td>\n",
              "      <td>0</td>\n",
              "      <td>0</td>\n",
              "      <td>330877</td>\n",
              "      <td>8.4583</td>\n",
              "      <td>NaN</td>\n",
              "      <td>Q</td>\n",
              "    </tr>\n",
              "    <tr>\n",
              "      <th>6</th>\n",
              "      <td>7</td>\n",
              "      <td>0</td>\n",
              "      <td>1</td>\n",
              "      <td>McCarthy, Mr. Timothy J</td>\n",
              "      <td>male</td>\n",
              "      <td>54.0</td>\n",
              "      <td>0</td>\n",
              "      <td>0</td>\n",
              "      <td>17463</td>\n",
              "      <td>51.8625</td>\n",
              "      <td>E46</td>\n",
              "      <td>S</td>\n",
              "    </tr>\n",
              "  </tbody>\n",
              "</table>\n",
              "</div>"
            ],
            "text/plain": [
              "   PassengerId  Survived  Pclass  \\\n",
              "0            1         0       3   \n",
              "1            2         1       1   \n",
              "2            3         1       3   \n",
              "3            4         1       1   \n",
              "4            5         0       3   \n",
              "5            6         0       3   \n",
              "6            7         0       1   \n",
              "\n",
              "                                                Name     Sex   Age  SibSp  \\\n",
              "0                            Braund, Mr. Owen Harris    male  22.0      1   \n",
              "1  Cumings, Mrs. John Bradley (Florence Briggs Th...  female  38.0      1   \n",
              "2                             Heikkinen, Miss. Laina  female  26.0      0   \n",
              "3       Futrelle, Mrs. Jacques Heath (Lily May Peel)  female  35.0      1   \n",
              "4                           Allen, Mr. William Henry    male  35.0      0   \n",
              "5                                   Moran, Mr. James    male   NaN      0   \n",
              "6                            McCarthy, Mr. Timothy J    male  54.0      0   \n",
              "\n",
              "   Parch            Ticket     Fare Cabin Embarked  \n",
              "0      0         A/5 21171   7.2500   NaN        S  \n",
              "1      0          PC 17599  71.2833   C85        C  \n",
              "2      0  STON/O2. 3101282   7.9250   NaN        S  \n",
              "3      0            113803  53.1000  C123        S  \n",
              "4      0            373450   8.0500   NaN        S  \n",
              "5      0            330877   8.4583   NaN        Q  \n",
              "6      0             17463  51.8625   E46        S  "
            ]
          },
          "metadata": {
            "tags": []
          },
          "execution_count": 3
        }
      ]
    },
    {
      "cell_type": "markdown",
      "metadata": {
        "nbgrader": {
          "grade": false,
          "locked": true,
          "solution": false
        },
        "id": "_wa-_HFQzOpd",
        "colab_type": "text"
      },
      "source": [
        "#### Question 1\n",
        "Dropping nulls.  \n",
        "\n",
        "The exercise below requires dropping certain records / columns.  \n",
        "\n",
        "The general rules followed below are:  \n",
        "\n",
        "- If a column consists mostly of missing data, that column probably will not be of much use in prediction.  \n",
        "- If a column has very few missing values, and enough records to build a model are complete, the records with missing values in that column may be cast out.  \n",
        "\n",
        "The question statement below includes specific directions as to how to implement the above rules."
      ]
    },
    {
      "cell_type": "code",
      "metadata": {
        "id": "mDudz9KyO8x6",
        "colab_type": "code",
        "outputId": "08afad42-45af-40c2-867f-86d56e1e45cb",
        "colab": {
          "base_uri": "https://localhost:8080/",
          "height": 34
        }
      },
      "source": [
        "#titanic_df.dropna(axis=0, how='any', thresh=None, subset=None, inplace=False)\n",
        "#Docstring: Return object with labels on given axis omitted where alternately any or all of the data are missing\n",
        "\n",
        "#titanic_df.Embarked.notnull()         // Series.isna : boolean inverse of notna  // Series.notnull : alias of notna\n",
        "#Docstring: Return a boolean same-sized object indicating if the values are not NA.\n",
        "\n",
        "tdf2 = titanic_df[titanic_df.Embarked.notnull()].dropna(axis = \"columns\", thresh = 450)   # thresh=450 is 50%(890/2)\n",
        "print(tdf2.shape , titanic_df.shape)"
      ],
      "execution_count": 0,
      "outputs": [
        {
          "output_type": "stream",
          "text": [
            "(889, 11) (891, 12)\n"
          ],
          "name": "stdout"
        }
      ]
    },
    {
      "cell_type": "code",
      "metadata": {
        "nbgrader": {
          "grade": false,
          "grade_id": "shape",
          "locked": false,
          "points": "5",
          "solution": false
        },
        "id": "e-SqQzEBzOpe",
        "colab_type": "code",
        "outputId": "19c24a4c-6c01-4a20-f8f2-6d62a94809ea",
        "colab": {
          "base_uri": "https://localhost:8080/",
          "height": 340
        }
      },
      "source": [
        "### GRADED\n",
        "\n",
        "### 1. Drop all of the columns in `titanic_df` which are filled more than 50% with nulls.\n",
        "### 2. If a column has fewer than 10 missing values:\n",
        "### ### Drop all of the records with missing data in that column.\n",
        "\n",
        "### After performing the above drops, what is the shape of the DataFrame?\n",
        "### Assign ints to `row` and `cols` below corresponding to the *remaining* number of rows / columns\n",
        "\n",
        "### YOUR ANSWER BELOW\n",
        "\n",
        "column_seri = titanic_df.isna().sum(axis = 0)   # column    // #itanic_df.isnull().sum(axis = 0)\n",
        "row_seri = titanic_df.isna().sum(axis = 1)      # row       // #itanic_df.isnull().sum(axis = 1)\n",
        "\n",
        "column_list = list(zip(column_seri.index, column_seri.tolist()))\n",
        "row_list = list(zip(row_seri.index, row_seri.tolist()))\n",
        "\n",
        "print(\"Sum Null in columns: \\n\", column_seri)\n",
        "\n",
        "for str,num in column_list:\n",
        "  if (num/891) > 0.5:\n",
        "    print(\"______column drop under 50%_______:\",str,num)\n",
        "    #titanic_df.drop(columns=[str], inplace=True)\n",
        "    \n",
        "\n",
        "for inde,num in row_list:\n",
        "  if num >= 10:\n",
        "    print(\"______row drop more than 10_______:\",inde,num)\n",
        "    #titanic_df.drop([inde], inplace=True)\n",
        "\n",
        "    \n",
        "print(\"\\n----- column---:\", column_seri.shape)\n",
        "print(\"\\n----- row   ---:\", row_seri.shape)\n",
        "rows = 891\n",
        "cols = 11\n",
        "\n",
        "#----------- Real Answer -------\n",
        "#rows = 889\n",
        "#cols = 11"
      ],
      "execution_count": 0,
      "outputs": [
        {
          "output_type": "stream",
          "text": [
            "Sum Null in columns: \n",
            " PassengerId      0\n",
            "Survived         0\n",
            "Pclass           0\n",
            "Name             0\n",
            "Sex              0\n",
            "Age            177\n",
            "SibSp            0\n",
            "Parch            0\n",
            "Ticket           0\n",
            "Fare             0\n",
            "Cabin          687\n",
            "Embarked         2\n",
            "dtype: int64\n",
            "______column drop under 50%_______: Cabin 687\n",
            "\n",
            "----- column---: (12,)\n",
            "\n",
            "----- row   ---: (891,)\n"
          ],
          "name": "stdout"
        }
      ]
    },
    {
      "cell_type": "code",
      "metadata": {
        "nbgrader": {
          "grade": true,
          "grade_id": "Question 1",
          "locked": true,
          "points": "5",
          "solution": false
        },
        "id": "l85NKZvlzOph",
        "colab_type": "code",
        "colab": {}
      },
      "source": [
        "#\n",
        "# AUTOGRADER TEST - DO NOT REMOVE\n",
        "#\n"
      ],
      "execution_count": 0,
      "outputs": []
    },
    {
      "cell_type": "markdown",
      "metadata": {
        "nbgrader": {
          "grade": false,
          "locked": true,
          "solution": false
        },
        "id": "iIABiKM9zOpl",
        "colab_type": "text"
      },
      "source": [
        "#### Question 2"
      ]
    },
    {
      "cell_type": "code",
      "metadata": {
        "id": "A4XEOlg7zOpl",
        "colab_type": "code",
        "outputId": "a50ce3dc-5f77-4924-d1d4-bf0939a8c9d0",
        "colab": {
          "base_uri": "https://localhost:8080/",
          "height": 34
        }
      },
      "source": [
        "### GRADED\n",
        "### How many records are missing from the \"Age\" feature?\n",
        "\n",
        "### Assign int response to ans1\n",
        "### YOUR ANSWER BELOW\n",
        "\n",
        "print(titanic_df[\"Age\"].isnull().sum(axis = 0))\n",
        "\n",
        "ans1 = titanic_df[\"Age\"].isnull().sum(axis = 0)"
      ],
      "execution_count": 0,
      "outputs": [
        {
          "output_type": "stream",
          "text": [
            "177\n"
          ],
          "name": "stdout"
        }
      ]
    },
    {
      "cell_type": "code",
      "metadata": {
        "nbgrader": {
          "grade": true,
          "grade_id": "Question 2",
          "locked": true,
          "points": "5",
          "solution": false
        },
        "id": "uDJJe5T4zOpo",
        "colab_type": "code",
        "colab": {}
      },
      "source": [
        "#\n",
        "# AUTOGRADER TEST - DO NOT REMOVE\n",
        "#\n"
      ],
      "execution_count": 0,
      "outputs": []
    },
    {
      "cell_type": "markdown",
      "metadata": {
        "nbgrader": {
          "grade": false,
          "locked": true,
          "solution": false
        },
        "id": "_jvSF9zUzOpr",
        "colab_type": "text"
      },
      "source": [
        "Given the fairly large number of values missing from \"Age\", and the feature's likely relationship with survival, we will create an educated guess for missing passenger ages; imputing the ages using a $k$-Nearest-Neighbor algorithm.\n",
        "\n",
        "Note: In imputing values for \"age\",  \"`survival`\" will be excluded from the $X$ matrix since that is the value we ultimately plan to predict.\n",
        "\n",
        "#### KNeighborsRegressor in `sklearn`\n",
        "Because `sklearn` automatically converts all data to floats before fitting models, it is necessary to encode any and all categorical variables as dummy variables:"
      ]
    },
    {
      "cell_type": "code",
      "metadata": {
        "nbgrader": {
          "grade": false,
          "locked": true,
          "solution": false
        },
        "id": "3Q0F68HtzOpt",
        "colab_type": "code",
        "outputId": "f575d07f-2a2f-4329-b2a2-8eab76a7998a",
        "colab": {
          "base_uri": "https://localhost:8080/",
          "height": 204
        }
      },
      "source": [
        "### Drop irrelevant categories\n",
        "titanic_df.drop(['Ticket','Cabin', 'PassengerId', 'Name'], axis=1, inplace=True)\n",
        "titanic_df = titanic_df.loc[titanic_df['Embarked'].notnull(),:]      # Make a data without Null \n",
        "\n",
        "### Drop \"Survived\" for purposes of KNN imputation:\n",
        "y_target = titanic_df.Survived\n",
        "titanic_knn = titanic_df.drop(['Survived'], axis = 1)  \n",
        "titanic_knn.head()"
      ],
      "execution_count": 0,
      "outputs": [
        {
          "output_type": "execute_result",
          "data": {
            "text/html": [
              "<div>\n",
              "<style scoped>\n",
              "    .dataframe tbody tr th:only-of-type {\n",
              "        vertical-align: middle;\n",
              "    }\n",
              "\n",
              "    .dataframe tbody tr th {\n",
              "        vertical-align: top;\n",
              "    }\n",
              "\n",
              "    .dataframe thead th {\n",
              "        text-align: right;\n",
              "    }\n",
              "</style>\n",
              "<table border=\"1\" class=\"dataframe\">\n",
              "  <thead>\n",
              "    <tr style=\"text-align: right;\">\n",
              "      <th></th>\n",
              "      <th>Pclass</th>\n",
              "      <th>Sex</th>\n",
              "      <th>Age</th>\n",
              "      <th>SibSp</th>\n",
              "      <th>Parch</th>\n",
              "      <th>Fare</th>\n",
              "      <th>Embarked</th>\n",
              "    </tr>\n",
              "  </thead>\n",
              "  <tbody>\n",
              "    <tr>\n",
              "      <th>0</th>\n",
              "      <td>3</td>\n",
              "      <td>male</td>\n",
              "      <td>22.0</td>\n",
              "      <td>1</td>\n",
              "      <td>0</td>\n",
              "      <td>7.2500</td>\n",
              "      <td>S</td>\n",
              "    </tr>\n",
              "    <tr>\n",
              "      <th>1</th>\n",
              "      <td>1</td>\n",
              "      <td>female</td>\n",
              "      <td>38.0</td>\n",
              "      <td>1</td>\n",
              "      <td>0</td>\n",
              "      <td>71.2833</td>\n",
              "      <td>C</td>\n",
              "    </tr>\n",
              "    <tr>\n",
              "      <th>2</th>\n",
              "      <td>3</td>\n",
              "      <td>female</td>\n",
              "      <td>26.0</td>\n",
              "      <td>0</td>\n",
              "      <td>0</td>\n",
              "      <td>7.9250</td>\n",
              "      <td>S</td>\n",
              "    </tr>\n",
              "    <tr>\n",
              "      <th>3</th>\n",
              "      <td>1</td>\n",
              "      <td>female</td>\n",
              "      <td>35.0</td>\n",
              "      <td>1</td>\n",
              "      <td>0</td>\n",
              "      <td>53.1000</td>\n",
              "      <td>S</td>\n",
              "    </tr>\n",
              "    <tr>\n",
              "      <th>4</th>\n",
              "      <td>3</td>\n",
              "      <td>male</td>\n",
              "      <td>35.0</td>\n",
              "      <td>0</td>\n",
              "      <td>0</td>\n",
              "      <td>8.0500</td>\n",
              "      <td>S</td>\n",
              "    </tr>\n",
              "  </tbody>\n",
              "</table>\n",
              "</div>"
            ],
            "text/plain": [
              "   Pclass     Sex   Age  SibSp  Parch     Fare Embarked\n",
              "0       3    male  22.0      1      0   7.2500        S\n",
              "1       1  female  38.0      1      0  71.2833        C\n",
              "2       3  female  26.0      0      0   7.9250        S\n",
              "3       1  female  35.0      1      0  53.1000        S\n",
              "4       3    male  35.0      0      0   8.0500        S"
            ]
          },
          "metadata": {
            "tags": []
          },
          "execution_count": 6
        }
      ]
    },
    {
      "cell_type": "code",
      "metadata": {
        "nbgrader": {
          "grade": false,
          "locked": true,
          "solution": false
        },
        "id": "PMvLacKKzOpv",
        "colab_type": "code",
        "outputId": "81b5fb12-1116-4f17-8bd3-758225db0cb6",
        "colab": {
          "base_uri": "https://localhost:8080/",
          "height": 204
        }
      },
      "source": [
        "### Adding dummy variables for categorical vars\n",
        "to_dummy = ['Sex','Embarked']\n",
        "titanic_knn = pd.get_dummies(titanic_knn, prefix = to_dummy, columns = to_dummy, drop_first = True)\n",
        "\n",
        "titanic_knn.head()"
      ],
      "execution_count": 0,
      "outputs": [
        {
          "output_type": "execute_result",
          "data": {
            "text/html": [
              "<div>\n",
              "<style scoped>\n",
              "    .dataframe tbody tr th:only-of-type {\n",
              "        vertical-align: middle;\n",
              "    }\n",
              "\n",
              "    .dataframe tbody tr th {\n",
              "        vertical-align: top;\n",
              "    }\n",
              "\n",
              "    .dataframe thead th {\n",
              "        text-align: right;\n",
              "    }\n",
              "</style>\n",
              "<table border=\"1\" class=\"dataframe\">\n",
              "  <thead>\n",
              "    <tr style=\"text-align: right;\">\n",
              "      <th></th>\n",
              "      <th>Pclass</th>\n",
              "      <th>Age</th>\n",
              "      <th>SibSp</th>\n",
              "      <th>Parch</th>\n",
              "      <th>Fare</th>\n",
              "      <th>Sex_male</th>\n",
              "      <th>Embarked_Q</th>\n",
              "      <th>Embarked_S</th>\n",
              "    </tr>\n",
              "  </thead>\n",
              "  <tbody>\n",
              "    <tr>\n",
              "      <th>0</th>\n",
              "      <td>3</td>\n",
              "      <td>22.0</td>\n",
              "      <td>1</td>\n",
              "      <td>0</td>\n",
              "      <td>7.2500</td>\n",
              "      <td>1</td>\n",
              "      <td>0</td>\n",
              "      <td>1</td>\n",
              "    </tr>\n",
              "    <tr>\n",
              "      <th>1</th>\n",
              "      <td>1</td>\n",
              "      <td>38.0</td>\n",
              "      <td>1</td>\n",
              "      <td>0</td>\n",
              "      <td>71.2833</td>\n",
              "      <td>0</td>\n",
              "      <td>0</td>\n",
              "      <td>0</td>\n",
              "    </tr>\n",
              "    <tr>\n",
              "      <th>2</th>\n",
              "      <td>3</td>\n",
              "      <td>26.0</td>\n",
              "      <td>0</td>\n",
              "      <td>0</td>\n",
              "      <td>7.9250</td>\n",
              "      <td>0</td>\n",
              "      <td>0</td>\n",
              "      <td>1</td>\n",
              "    </tr>\n",
              "    <tr>\n",
              "      <th>3</th>\n",
              "      <td>1</td>\n",
              "      <td>35.0</td>\n",
              "      <td>1</td>\n",
              "      <td>0</td>\n",
              "      <td>53.1000</td>\n",
              "      <td>0</td>\n",
              "      <td>0</td>\n",
              "      <td>1</td>\n",
              "    </tr>\n",
              "    <tr>\n",
              "      <th>4</th>\n",
              "      <td>3</td>\n",
              "      <td>35.0</td>\n",
              "      <td>0</td>\n",
              "      <td>0</td>\n",
              "      <td>8.0500</td>\n",
              "      <td>1</td>\n",
              "      <td>0</td>\n",
              "      <td>1</td>\n",
              "    </tr>\n",
              "  </tbody>\n",
              "</table>\n",
              "</div>"
            ],
            "text/plain": [
              "   Pclass   Age  SibSp  Parch     Fare  Sex_male  Embarked_Q  Embarked_S\n",
              "0       3  22.0      1      0   7.2500         1           0           1\n",
              "1       1  38.0      1      0  71.2833         0           0           0\n",
              "2       3  26.0      0      0   7.9250         0           0           1\n",
              "3       1  35.0      1      0  53.1000         0           0           1\n",
              "4       3  35.0      0      0   8.0500         1           0           1"
            ]
          },
          "metadata": {
            "tags": []
          },
          "execution_count": 7
        }
      ]
    },
    {
      "cell_type": "code",
      "metadata": {
        "id": "aZbzCr-MtT_s",
        "colab_type": "code",
        "colab": {}
      },
      "source": [
        "pd.get_dummies?"
      ],
      "execution_count": 0,
      "outputs": []
    },
    {
      "cell_type": "code",
      "metadata": {
        "nbgrader": {
          "grade": false,
          "locked": true,
          "solution": false
        },
        "id": "XXIgGapFzOpz",
        "colab_type": "code",
        "outputId": "5cbece38-60a0-424d-890f-64d67a18a0b9",
        "colab": {
          "base_uri": "https://localhost:8080/",
          "height": 487
        }
      },
      "source": [
        "### Splitting data - on whether or not \"Age\" is specified.\n",
        "\n",
        "# Training data -- \"Age\" Not null; \"Age\" as target\n",
        "train = titanic_knn[titanic_knn.Age.notnull()]\n",
        "X_train = train.drop(['Age'], axis = 1)\n",
        "y_train = train.Age\n",
        "\n",
        "\n",
        "# Data to impute, -- Where Age is null; Remove completely-null \"Age\" column.\n",
        "impute = titanic_knn[titanic_knn.Age.isnull()].drop(['Age'], axis = 1)\n",
        "print(\"Data to Impute\")\n",
        "print(impute.head(3))\n",
        "\n",
        "# import algorithm\n",
        "from sklearn.neighbors import KNeighborsRegressor\n",
        "\n",
        "# Instantiate\n",
        "knr = KNeighborsRegressor()\n",
        "\n",
        "# Fit\n",
        "knr.fit(X_train, y_train)\n",
        "\n",
        "# Create Predictions\n",
        "imputed_ages = knr.predict(impute)\n",
        "\n",
        "# Add to Df\n",
        "impute['Age'] = imputed_ages\n",
        "print(\"\\nImputed Ages\")\n",
        "print(impute.head(3))\n",
        "\n",
        "# Re-combine dataframes\n",
        "titanic_imputed = pd.concat([train, impute],  axis = 0)\n",
        "\n",
        "# Return to original order - to match back up with \"Survived\"\n",
        "titanic_imputed.sort_index(inplace = True)\n",
        "print(\"Shape with imputed values:\", titanic_imputed.shape)\n",
        "print(\"Shape before imputation:\", titanic_knn.shape)\n",
        "titanic_imputed.head(7)"
      ],
      "execution_count": 0,
      "outputs": [
        {
          "output_type": "stream",
          "text": [
            "Data to Impute\n",
            "    Pclass  SibSp  Parch     Fare  Sex_male  Embarked_Q  Embarked_S\n",
            "5        3      0      0   8.4583         1           1           0\n",
            "17       2      0      0  13.0000         1           0           1\n",
            "19       3      0      0   7.2250         0           0           0\n",
            "\n",
            "Imputed Ages\n",
            "    Pclass  SibSp  Parch     Fare  Sex_male  Embarked_Q  Embarked_S   Age\n",
            "5        3      0      0   8.4583         1           1           0  47.2\n",
            "17       2      0      0  13.0000         1           0           1  25.6\n",
            "19       3      0      0   7.2250         0           0           0  23.0\n",
            "Shape with imputed values: (889, 8)\n",
            "Shape before imputation: (889, 8)\n"
          ],
          "name": "stdout"
        },
        {
          "output_type": "execute_result",
          "data": {
            "text/html": [
              "<div>\n",
              "<style scoped>\n",
              "    .dataframe tbody tr th:only-of-type {\n",
              "        vertical-align: middle;\n",
              "    }\n",
              "\n",
              "    .dataframe tbody tr th {\n",
              "        vertical-align: top;\n",
              "    }\n",
              "\n",
              "    .dataframe thead th {\n",
              "        text-align: right;\n",
              "    }\n",
              "</style>\n",
              "<table border=\"1\" class=\"dataframe\">\n",
              "  <thead>\n",
              "    <tr style=\"text-align: right;\">\n",
              "      <th></th>\n",
              "      <th>Age</th>\n",
              "      <th>Embarked_Q</th>\n",
              "      <th>Embarked_S</th>\n",
              "      <th>Fare</th>\n",
              "      <th>Parch</th>\n",
              "      <th>Pclass</th>\n",
              "      <th>Sex_male</th>\n",
              "      <th>SibSp</th>\n",
              "    </tr>\n",
              "  </thead>\n",
              "  <tbody>\n",
              "    <tr>\n",
              "      <th>0</th>\n",
              "      <td>22.0</td>\n",
              "      <td>0</td>\n",
              "      <td>1</td>\n",
              "      <td>7.2500</td>\n",
              "      <td>0</td>\n",
              "      <td>3</td>\n",
              "      <td>1</td>\n",
              "      <td>1</td>\n",
              "    </tr>\n",
              "    <tr>\n",
              "      <th>1</th>\n",
              "      <td>38.0</td>\n",
              "      <td>0</td>\n",
              "      <td>0</td>\n",
              "      <td>71.2833</td>\n",
              "      <td>0</td>\n",
              "      <td>1</td>\n",
              "      <td>0</td>\n",
              "      <td>1</td>\n",
              "    </tr>\n",
              "    <tr>\n",
              "      <th>2</th>\n",
              "      <td>26.0</td>\n",
              "      <td>0</td>\n",
              "      <td>1</td>\n",
              "      <td>7.9250</td>\n",
              "      <td>0</td>\n",
              "      <td>3</td>\n",
              "      <td>0</td>\n",
              "      <td>0</td>\n",
              "    </tr>\n",
              "    <tr>\n",
              "      <th>3</th>\n",
              "      <td>35.0</td>\n",
              "      <td>0</td>\n",
              "      <td>1</td>\n",
              "      <td>53.1000</td>\n",
              "      <td>0</td>\n",
              "      <td>1</td>\n",
              "      <td>0</td>\n",
              "      <td>1</td>\n",
              "    </tr>\n",
              "    <tr>\n",
              "      <th>4</th>\n",
              "      <td>35.0</td>\n",
              "      <td>0</td>\n",
              "      <td>1</td>\n",
              "      <td>8.0500</td>\n",
              "      <td>0</td>\n",
              "      <td>3</td>\n",
              "      <td>1</td>\n",
              "      <td>0</td>\n",
              "    </tr>\n",
              "    <tr>\n",
              "      <th>5</th>\n",
              "      <td>47.2</td>\n",
              "      <td>1</td>\n",
              "      <td>0</td>\n",
              "      <td>8.4583</td>\n",
              "      <td>0</td>\n",
              "      <td>3</td>\n",
              "      <td>1</td>\n",
              "      <td>0</td>\n",
              "    </tr>\n",
              "    <tr>\n",
              "      <th>6</th>\n",
              "      <td>54.0</td>\n",
              "      <td>0</td>\n",
              "      <td>1</td>\n",
              "      <td>51.8625</td>\n",
              "      <td>0</td>\n",
              "      <td>1</td>\n",
              "      <td>1</td>\n",
              "      <td>0</td>\n",
              "    </tr>\n",
              "  </tbody>\n",
              "</table>\n",
              "</div>"
            ],
            "text/plain": [
              "    Age  Embarked_Q  Embarked_S     Fare  Parch  Pclass  Sex_male  SibSp\n",
              "0  22.0           0           1   7.2500      0       3         1      1\n",
              "1  38.0           0           0  71.2833      0       1         0      1\n",
              "2  26.0           0           1   7.9250      0       3         0      0\n",
              "3  35.0           0           1  53.1000      0       1         0      1\n",
              "4  35.0           0           1   8.0500      0       3         1      0\n",
              "5  47.2           1           0   8.4583      0       3         1      0\n",
              "6  54.0           0           1  51.8625      0       1         1      0"
            ]
          },
          "metadata": {
            "tags": []
          },
          "execution_count": 9
        }
      ]
    },
    {
      "cell_type": "markdown",
      "metadata": {
        "nbgrader": {
          "grade": false,
          "locked": true,
          "solution": false
        },
        "id": "duLEpyOfzOp2",
        "colab_type": "text"
      },
      "source": [
        "It would be appropriate to spend more time taking care with the imputation of age. For brevity's sake that will not be done here.\n",
        "\n",
        "#### Brief EDA\n",
        "\n",
        "First Look at tabulations of categorical variables:"
      ]
    },
    {
      "cell_type": "code",
      "metadata": {
        "nbgrader": {
          "grade": false,
          "locked": true,
          "solution": false
        },
        "id": "9-w2sL9OzOp3",
        "colab_type": "code",
        "outputId": "f964d312-5477-4170-9ea3-c8e24073fbce",
        "colab": {
          "base_uri": "https://localhost:8080/",
          "height": 799
        }
      },
      "source": [
        "import itertools\n",
        "# Lists of categorical v. numeric features\n",
        "categorical = ['Pclass','Sex','Embarked']\n",
        "numeric = ['Age','SibSp','Parch','Fare']\n",
        "\n",
        "# Create all pairs of categorical variables, look at distributions\n",
        "cat_combos = list(itertools.combinations(categorical, 2))\n",
        "print(\"All Combos or categorical vars: \\n\",cat_combos, \"\\n\")\n",
        "for row, col in cat_combos:\n",
        "    print(\"Row Percents: \\n\",pd.crosstab(titanic_df[row], titanic_df[col], normalize=\"index\"), \"\\n\")\n",
        "    print(\"Column Percents: \\n\", pd.crosstab(titanic_df[row], titanic_df[col], normalize=\"columns\"),\"\\n---------------\\n\")"
      ],
      "execution_count": 0,
      "outputs": [
        {
          "output_type": "stream",
          "text": [
            "All Combos or categorical vars: \n",
            " [('Pclass', 'Sex'), ('Pclass', 'Embarked'), ('Sex', 'Embarked')] \n",
            "\n",
            "Row Percents: \n",
            " Sex       female      male\n",
            "Pclass                    \n",
            "1       0.429907  0.570093\n",
            "2       0.413043  0.586957\n",
            "3       0.293279  0.706721 \n",
            "\n",
            "Column Percents: \n",
            " Sex       female      male\n",
            "Pclass                    \n",
            "1       0.294872  0.211438\n",
            "2       0.243590  0.187175\n",
            "3       0.461538  0.601386 \n",
            "---------------\n",
            "\n",
            "Row Percents: \n",
            " Embarked         C         Q         S\n",
            "Pclass                                \n",
            "1         0.397196  0.009346  0.593458\n",
            "2         0.092391  0.016304  0.891304\n",
            "3         0.134420  0.146640  0.718941 \n",
            "\n",
            "Column Percents: \n",
            " Embarked         C         Q         S\n",
            "Pclass                                \n",
            "1         0.505952  0.025974  0.197205\n",
            "2         0.101190  0.038961  0.254658\n",
            "3         0.392857  0.935065  0.548137 \n",
            "---------------\n",
            "\n",
            "Row Percents: \n",
            " Embarked         C         Q         S\n",
            "Sex                                   \n",
            "female    0.233974  0.115385  0.650641\n",
            "male      0.164645  0.071057  0.764298 \n",
            "\n",
            "Column Percents: \n",
            " Embarked         C         Q         S\n",
            "Sex                                   \n",
            "female    0.434524  0.467532  0.315217\n",
            "male      0.565476  0.532468  0.684783 \n",
            "---------------\n",
            "\n"
          ],
          "name": "stdout"
        }
      ]
    },
    {
      "cell_type": "markdown",
      "metadata": {
        "nbgrader": {
          "grade": false,
          "locked": true,
          "solution": false
        },
        "id": "5axFBlwczOp6",
        "colab_type": "text"
      },
      "source": [
        "**Correlation heatmap of the numberic variables**"
      ]
    },
    {
      "cell_type": "code",
      "metadata": {
        "nbgrader": {
          "grade": false,
          "locked": true,
          "solution": false
        },
        "id": "Jz1vqfNZzOp8",
        "colab_type": "code",
        "outputId": "297147a9-208b-4127-aac1-59e4396d88db",
        "colab": {
          "base_uri": "https://localhost:8080/",
          "height": 592
        }
      },
      "source": [
        "import seaborn as sns\n",
        "sns.heatmap(titanic_df[numeric].corr(), cmap = \"coolwarm\");"
      ],
      "execution_count": 0,
      "outputs": [
        {
          "output_type": "display_data",
          "data": {
            "image/png": "[encoded data removed]",
            "text/plain": [
              "<matplotlib.figure.Figure at 0x7f14da6a3a58>"
            ]
          },
          "metadata": {
            "tags": []
          }
        }
      ]
    },
    {
      "cell_type": "markdown",
      "metadata": {
        "nbgrader": {
          "grade": false,
          "locked": true,
          "solution": false
        },
        "id": "RyRXOeZ0zOp-",
        "colab_type": "text"
      },
      "source": [
        "#### Question 3"
      ]
    },
    {
      "cell_type": "code",
      "metadata": {
        "id": "eRYZFbogzOp_",
        "colab_type": "code",
        "colab": {}
      },
      "source": [
        "### GRADED\n",
        "### True or False:\n",
        "### Other than the autocorrelation,\n",
        "### Two of the above variables in the heatmap have a correlation definitively greater than 0.5 or less than -0.5?\n",
        "\n",
        "### Assign boolean answer to ans1\n",
        "### YOUR ANSWER BELOW\n",
        "\n",
        "ans1 = False"
      ],
      "execution_count": 0,
      "outputs": []
    },
    {
      "cell_type": "code",
      "metadata": {
        "nbgrader": {
          "grade": true,
          "grade_id": "Question 3",
          "locked": true,
          "points": "2",
          "solution": false
        },
        "id": "b14vEEP2zOqC",
        "colab_type": "code",
        "colab": {}
      },
      "source": [
        "#\n",
        "# AUTOGRADER TEST - DO NOT REMOVE\n",
        "#\n"
      ],
      "execution_count": 0,
      "outputs": []
    },
    {
      "cell_type": "markdown",
      "metadata": {
        "nbgrader": {
          "grade": false,
          "locked": true,
          "solution": false
        },
        "id": "W_TCWzRAzOqF",
        "colab_type": "text"
      },
      "source": [
        "<a id = \"code\"></a>\n",
        "### Coding Logistic Regression\n",
        "\n",
        "The first function will perform the preprocessing of our data. The steps are:  \n",
        "\n",
        "**First**: Ensure that the x- and y- matricies have the observations as rows, and features as columns.  \n",
        "- The x-matrix will be n-rows and d-columns. Where $n>d$\n",
        "- The y-vector will be a 1-dimensional numpy array of length n.  \n",
        "\n",
        "**Second**: A column of ones must be added to the x-inputs matrix, increasing its dimensions to n-by-d+1.  \n",
        "\n",
        "**Third**: Ensure that the y-vector has all values encoded as 1 and -1, NOT 1 and 0.  \n",
        "\n",
        "**Fourth**: The initial vector of weights should be created, a vector of length d+1 of all 0's (Hint: look at `np.zeros`)\n",
        "\n",
        "Those three matricies should all be returned. e.g.:  \n",
        "\n",
        "`return prepared_x, prepared_y, initial_w`  \n",
        "\n",
        "See example below of returning multiple items with a single function"
      ]
    },
    {
      "cell_type": "code",
      "metadata": {
        "nbgrader": {
          "grade": false,
          "locked": true,
          "solution": false
        },
        "id": "xpgAKBMazOqF",
        "colab_type": "code",
        "outputId": "c330f5c8-1c8e-4387-ff16-6c25d7efe3de",
        "colab": {
          "base_uri": "https://localhost:8080/",
          "height": 34
        }
      },
      "source": [
        "def ex_func(): return 1,2,3\n",
        "\n",
        "\n",
        "z = ex_func()\n",
        "a,b,c = ex_func()\n",
        "\n",
        "print(\"a:\", a,\"b:\",b,\"c:\",c,\"z:\",z)"
      ],
      "execution_count": 0,
      "outputs": [
        {
          "output_type": "stream",
          "text": [
            "a: 1 b: 2 c: 3 z: (1, 2, 3)\n"
          ],
          "name": "stdout"
        }
      ]
    },
    {
      "cell_type": "markdown",
      "metadata": {
        "nbgrader": {
          "grade": false,
          "locked": true,
          "solution": false
        },
        "id": "a2mD7YsjzOqK",
        "colab_type": "text"
      },
      "source": [
        "#### Question 4"
      ]
    },
    {
      "cell_type": "code",
      "metadata": {
        "id": "Wd1EYTGGzOqK",
        "colab_type": "code",
        "colab": {}
      },
      "source": [
        "### GRADED\n",
        "### Follow directions given above\n",
        "### YOUR ANSWER BELOW\n",
        "\n",
        "def prepare_data(input_x, target_y):\n",
        "    \"\"\"\n",
        "    Confirm dimensions of x and y, transpose if appropriate;\n",
        "    Add column of ones to x;\n",
        "    Ensure y consists of 1's and -1's;\n",
        "    Create weights array of all 0s\n",
        "    \n",
        "    Return X, y, and weights.\n",
        "    \n",
        "    Arguments:\n",
        "        input_x - a numpy array \n",
        "        target_y - a numpy array\n",
        "        \n",
        "    Returns:\n",
        "        prepared_x -- a 2-d numpy array; first column consists of 1's,\n",
        "            more rows than columns\n",
        "        prepared_y -- a numpy array consisting only of 1s and -1s\n",
        "        initial_w -- a 1-d numpy array consisting of \"d+1\" 0s, where\n",
        "            \"d+1\" is the number of columns in \"prepared_x\"\n",
        "        \n",
        "    Example:\n",
        "        x = np.array([[1,2,3,4],[11,12,13,14]])\n",
        "        y = np.array([1,0,1,1])\n",
        "        x,y,w = prepare_data(x,y)\n",
        "        \n",
        "        print(x) #--> array([[ 1,  1, 11],\n",
        "                            [ 1,  2, 12],\n",
        "                            [ 1,  3, 13],\n",
        "                            [ 1,  4, 14]])\n",
        "                            \n",
        "        print(y) #--> array([1, -1, 1, 1])\n",
        "        \n",
        "        print(w) #--> array([0., 0., 0.])\n",
        "        \n",
        "    Assumptions:\n",
        "        Assume that there are more observations than features in `input_x`\n",
        "    \"\"\"\n",
        "    # Check raws as ovservation, columns  as features.  Columns(d) > Rows(n)\n",
        "    if input_x.shape[0] < input_x.shape[1]:  # Input shape 2,4      If not rows > columns, to be changed    \n",
        "      input_x = np.transpose(input_x)\n",
        "      \n",
        "    ones = np.ones((input_x.shape[0],1),dtype=int)   # make (n,) np array filled in \"1\"\n",
        "    prepared_x = np.hstack((ones, input_x))          # make (n,d+1) arrary\n",
        "    \n",
        "    initial_w = np.zeros(prepared_x.shape[1])        # make (d+1,) np array filled in \"0\"\n",
        "    \n",
        "    prepared_y=[]                                    # y is length n\n",
        "    for y in target_y:\n",
        "      if y != 1:\n",
        "        prepared_y.append(-1)\n",
        "      else:\n",
        "        prepared_y.append(y)\n",
        "       \n",
        "  return prepared_x, np.array(prepared_y), initial_w"
      ],
      "execution_count": 0,
      "outputs": []
    },
    {
      "cell_type": "code",
      "metadata": {
        "id": "nIKBvaSYG3QO",
        "colab_type": "code",
        "outputId": "0adeda3b-4339-4919-a27f-de925e3431e1",
        "colab": {
          "base_uri": "https://localhost:8080/",
          "height": 119
        }
      },
      "source": [
        "x = np.array([[1,2,3,4],[11,12,13,14]])\n",
        "y = np.array([1,0,1,1])\n",
        "\n",
        "\n",
        "def prepare_data(input_x, target_y):\n",
        "  \n",
        "  # x = np.array([[22,7.25],[38,71.2833],[26,7.925],[35,53.1]])\n",
        "  # ------- x input shape ---- \\ n (4, 2)\n",
        "  # previous input shape 2,4\n",
        "  \n",
        "  if input_x.shape[0] < input_x.shape[1]:  # Input shape 2,4      If not rows > columns, to be changed    \n",
        "    input_x = np.transpose(input_x)\n",
        "  \n",
        "  ones = np.ones((input_x.shape[0],1),dtype=int)   # make (n,) np array filled in \"1\"\n",
        " \n",
        "  prepared_x = np.hstack((ones, input_x))          # make (n,d+1) arrary\n",
        "    \n",
        "  initial_w = np.zeros(prepared_x.shape[1])        # make (d+1,) np array filled in \"0\"\n",
        "  \n",
        "  prepared_y=[]                                    # y is length n\n",
        "  for y in target_y:\n",
        "    if y != 1:\n",
        "      prepared_y.append(-1)\n",
        "    else:\n",
        "      prepared_y.append(y)\n",
        "       \n",
        "  return prepared_x, np.array(prepared_y), initial_w\n",
        "\n",
        "x,y,w = prepare_data(x,y)\n",
        "\n",
        "print(x, type(x), x.shape)                    \n",
        "print(y, type(y), y.shape) #--> array([1, -1, 1, 1])\n",
        "print(w, type(w), w.shape) #--> array([0., 0., 0.])"
      ],
      "execution_count": 0,
      "outputs": [
        {
          "output_type": "stream",
          "text": [
            "[[ 1  1 11]\n",
            " [ 1  2 12]\n",
            " [ 1  3 13]\n",
            " [ 1  4 14]] <class 'numpy.ndarray'> (4, 3)\n",
            "[ 1 -1  1  1] <class 'numpy.ndarray'> (4,)\n",
            "[0. 0. 0.] <class 'numpy.ndarray'> (3,)\n"
          ],
          "name": "stdout"
        }
      ]
    },
    {
      "cell_type": "code",
      "metadata": {
        "nbgrader": {
          "grade": true,
          "grade_id": "Question 4",
          "locked": true,
          "points": "10",
          "solution": false
        },
        "id": "0vXTuNG6zOqP",
        "colab_type": "code",
        "colab": {}
      },
      "source": [
        "#\n",
        "# AUTOGRADER TEST - DO NOT REMOVE\n",
        "#\n"
      ],
      "execution_count": 0,
      "outputs": []
    },
    {
      "cell_type": "markdown",
      "metadata": {
        "nbgrader": {
          "grade": false,
          "locked": true,
          "solution": false
        },
        "id": "QIy8pAjBzOqT",
        "colab_type": "text"
      },
      "source": [
        "#### Question 5\n",
        "The next function will calculate the value of the sigmoid. \n",
        "\n",
        "Equation for the sigmoid:  \n",
        "$$\\sigma_i(y_i \\cdot w) = \\frac{e^{y_iX_i^Tw}}{1+e^{y_ix_i^Tw}}$$  \n",
        "\n",
        "Define a function called `sigmoid_single`:\n",
        "\n",
        "**Given** $x_i$, $y_i$, and $w$  \n",
        "**Return** a float, between 0 and 1.  \n",
        "\n",
        "Hint: First calculate $e^{y_ix_i^Tw}$; use `np.exp()`.  \n",
        "\n",
        "Look closely at the examples below.  \n",
        "$e^{y_ix_i^Tw}$ will evaluate to $np.inf$ when $y_ix_i^Tw$ is greater than ~709.782. In this case, a `\"1\"` should be returned by the function."
      ]
    },
    {
      "cell_type": "code",
      "metadata": {
        "id": "FaA0M5jRzOqT",
        "colab_type": "code",
        "colab": {}
      },
      "source": [
        "### GRADED\n",
        "### Follow directions above\n",
        "### YOUR ANSWER BELOW\n",
        "def sigmoid_single(x, y, w):\n",
        "    \"\"\"\n",
        "    Obtain the value of a Sigmoid using training data.\n",
        "    \n",
        "    Arguments:\n",
        "        x - a vector of length d\n",
        "        y - either 1, or -1\n",
        "        w - a vector of length d\n",
        "    \n",
        "    Example:\n",
        "        x = np.array([23.0,75])\n",
        "        y = -1\n",
        "        w = np.array([2,-.5])\n",
        "        sig = sigmoid_single(x, y, w)\n",
        "        \n",
        "        print(sig) #--> 0.0002034269780552065\n",
        "        \n",
        "        x2 = np.array([ 1. , 22., 0. , 1. , 7.25 , 0. , 3. , 1. , 1.])\n",
        "        w2 = np.array([ -10.45 , -376.7215 , -0.85, -10.5 , 212.425475 , -1.1, -36.25 , -17.95 , -7.1])\n",
        "        y2 = -1\n",
        "        sig2 = sigmoid_single(x2,y2,w2)\n",
        "        \n",
        "        print(sig2) #--> 1\n",
        "    \"\"\"\n",
        "    num = y * np.matmul( np.transpose(x), w )\n",
        "    \n",
        "    if num > 709.782 : \n",
        "      sig_re = 1    \n",
        "    else:\n",
        "      sig_re = np.exp(num) / (1 + np.exp(num)) \n",
        "\n",
        "    return float(sig_re)"
      ],
      "execution_count": 0,
      "outputs": []
    },
    {
      "cell_type": "code",
      "metadata": {
        "id": "Av5Oi8xKEFoJ",
        "colab_type": "code",
        "outputId": "4cac9727-abbf-475a-cd3b-b0592b254f6c",
        "colab": {
          "base_uri": "https://localhost:8080/",
          "height": 68
        }
      },
      "source": [
        "#x - a vector of length d\n",
        "#y - either 1, or -1\n",
        "#w - a vector of length d\n",
        "x = np.array([23.0,75])\n",
        "y = -1\n",
        "w = np.array([2,-.5])\n",
        "\n",
        "def sigmoid_single(x, y, w):\n",
        "  num = y * np.matmul( np.transpose(x), w )\n",
        "        \n",
        "  if num > 709.782 : \n",
        "    sig_re = 1    \n",
        "  else:\n",
        "    sig_re =  np.exp(num) / (1 + np.exp(num))   \n",
        "  \n",
        "  return float(sig_re)\n",
        "\n",
        "\n",
        "sig = sigmoid_single(x, y, w)\n",
        "print(\"\\n sig value:\",sig) #--> 0.0002034269780552065\n",
        "        \n",
        "x2 = np.array([ 1. , 22., 0. , 1. , 7.25 , 0. , 3. , 1. , 1.])\n",
        "w2 = np.array([ -10.45 , -376.7215 , -0.85, -10.5 , 212.425475 , -1.1, -36.25 , -17.95 , -7.1])\n",
        "y2 = -1\n",
        "\n",
        "\n",
        "sig2 = sigmoid_single(x2,y2,w2)\n",
        "print(sig2) #--> 1\n"
      ],
      "execution_count": 0,
      "outputs": [
        {
          "output_type": "stream",
          "text": [
            "\n",
            " sig value: 0.0002034269780552065\n",
            "1.0\n"
          ],
          "name": "stdout"
        }
      ]
    },
    {
      "cell_type": "code",
      "metadata": {
        "nbgrader": {
          "grade": true,
          "grade_id": "Question 5",
          "locked": true,
          "points": "15",
          "solution": false
        },
        "id": "gxwv71BizOqW",
        "colab_type": "code",
        "colab": {}
      },
      "source": [
        "#\n",
        "# AUTOGRADER TEST - DO NOT REMOVE\n",
        "#\n"
      ],
      "execution_count": 0,
      "outputs": []
    },
    {
      "cell_type": "markdown",
      "metadata": {
        "nbgrader": {
          "grade": false,
          "locked": true,
          "solution": false
        },
        "id": "vIX_24VhzOqY",
        "colab_type": "text"
      },
      "source": [
        "#### Question 6\n",
        "With the sigmoid, $\\sigma_i(y_i \\cdot w)$ defined above, we will tackle the rest of the function that is summed to calculate the gradient of the log-likelihood.   \n",
        "\n",
        "In a function named `to_sum`:  \n",
        "\n",
        "\n",
        "**Given** $x_i$, $y_i$, and $w$  \n",
        "**Return** $(1-\\sigma_i(y_i\\cdot w))y_ix_i$"
      ]
    },
    {
      "cell_type": "code",
      "metadata": {
        "id": "69JPCN6mzOqZ",
        "colab_type": "code",
        "colab": {}
      },
      "source": [
        "### GRADED\n",
        "### YOUR ANSWER BELOW\n",
        "def to_sum(x,y,w):\n",
        "    \"\"\"\n",
        "    Obtain the value of the function that will eventually be summed to \n",
        "    find the gradient of the log-likelihood.\n",
        "    \n",
        "    Arguments:\n",
        "        x - a vector of length d\n",
        "        y - either 1, or -1\n",
        "        w - a vector of length d\n",
        "        \n",
        "    Example:\n",
        "        x = np.array([23.0,75])\n",
        "        y = -1\n",
        "        w = np.array([.1,-.2])\n",
        "        print(to_sum(x,y,w)) # --> array([-7.01756737e-05, -2.28833719e-04])\n",
        "    \n",
        "    \"\"\"\n",
        "    #(1−σi(yi⋅w))yixi\n",
        "  \n",
        "    return ((1-sigmoid_single(x,y,w)) * y * x)\n",
        "    "
      ],
      "execution_count": 0,
      "outputs": []
    },
    {
      "cell_type": "code",
      "metadata": {
        "id": "GG5ExZp4lvM4",
        "colab_type": "code",
        "outputId": "271a6a74-ca73-4103-8d89-95c42d2ea3e6",
        "colab": {
          "base_uri": "https://localhost:8080/",
          "height": 34
        }
      },
      "source": [
        "x = np.array([23.0,75])\n",
        "y = -1\n",
        "w = np.array([.1,-.2])\n",
        "\n",
        "def to_sum(x,y,w):\n",
        "  #(1−σi(yi⋅w))yixi\n",
        "  \n",
        "  return ((1-sigmoid_single(x,y,w)) * y * x)\n",
        "\n",
        "print(to_sum(x,y,w)) # --> array([-7.01756737e-05, -2.28833719e-04])"
      ],
      "execution_count": 0,
      "outputs": [
        {
          "output_type": "stream",
          "text": [
            "[-7.01756737e-05 -2.28833719e-04]\n"
          ],
          "name": "stdout"
        }
      ]
    },
    {
      "cell_type": "code",
      "metadata": {
        "nbgrader": {
          "grade": true,
          "grade_id": "Question 6",
          "locked": true,
          "points": "15",
          "solution": false
        },
        "id": "itRr0D_izOqb",
        "colab_type": "code",
        "colab": {}
      },
      "source": [
        "#\n",
        "# AUTOGRADER TEST - DO NOT REMOVE\n",
        "#\n"
      ],
      "execution_count": 0,
      "outputs": []
    },
    {
      "cell_type": "markdown",
      "metadata": {
        "nbgrader": {
          "grade": false,
          "locked": true,
          "solution": false
        },
        "id": "yXhrCVBtzOqe",
        "colab_type": "text"
      },
      "source": [
        "#### Question 7\n",
        "Finally, code a function called `sum_all`:    \n",
        "\n",
        "\n",
        "**Given**: The pre-processed matricies corresponding to X, y, and weights  \n",
        "**Return**: $\\sum_{i = 1}^n (1 − \\sigma_i(y_i \\cdot w))\\ y_i x_i$"
      ]
    },
    {
      "cell_type": "code",
      "metadata": {
        "id": "RYKC5vdgzOqf",
        "colab_type": "code",
        "colab": {}
      },
      "source": [
        "### GRADED\n",
        "### Follow instructions above\n",
        "### YOUR ANSWER BELOW\n",
        "def sum_all(x_input, y_target, w):\n",
        "    \"\"\"\n",
        "    Obtain and return the gradient of the log-likelihood\n",
        "    \n",
        "    Arguments:\n",
        "        x_input - *preprocessed* an array of shape n-by-d\n",
        "        y_target - *preprocessed* a vector of length n\n",
        "        w - a vector of length d\n",
        "        \n",
        "    Example:\n",
        "        x = np.array([[1,22,7.25],[1,38,71.2833]])\n",
        "        y = np.array([-1,1])\n",
        "        w = np.array([.1,-.2, .5])\n",
        "        print(sum_all(x,y,w)) #--> array([-0.33737816, -7.42231958, -2.44599168])\n",
        "        \n",
        "    \"\"\"\n",
        "    one_sig=[]\n",
        "    sum_sig=[]\n",
        "    \n",
        "    for i in range(x_input.shape[0]):\n",
        "      one_xdata = x_input[i,:]                   # Selcet one columns's value\n",
        "      one_sig.append(list(to_sum(one_xdata,y_target[i],w)) )\n",
        "      \n",
        "    sum_sig = [sum(x) for x in zip(*one_sig)]    # Sum columns of an array in Python  \n",
        "    return np.array(sum_sig)    "
      ],
      "execution_count": 0,
      "outputs": []
    },
    {
      "cell_type": "code",
      "metadata": {
        "id": "Wcj2M7cMnG-n",
        "colab_type": "code",
        "outputId": "e0dd2e2e-8893-4862-d693-d31dde0015a3",
        "colab": {
          "base_uri": "https://localhost:8080/",
          "height": 34
        }
      },
      "source": [
        "x = np.array([[1,22,7.25],[1,38,71.2833]])\n",
        "y = np.array([-1,1])\n",
        "w = np.array([.1,-.2, .5])\n",
        "\n",
        "def sum_all(x_input, y_target, w):\n",
        "  #∑n(1−σi(yi⋅w)) yixi\n",
        "\n",
        "  one_sig=[]\n",
        "  sum_sig=[]\n",
        "    \n",
        "  for i in range(x_input.shape[0]):\n",
        "    one_xdata = x_input[i,:]                   # Selcet one columns's value\n",
        "    one_sig.append(list(to_sum(one_xdata,y_target[i],w)) )\n",
        "\n",
        "  sum_sig = [sum(x) for x in zip(*one_sig)]    # Sum columns of an array in Python  \n",
        "  return np.array(sum_sig)\n",
        "\n",
        "print(sum_all(x,y,w)) #--> array([-0.33737816, -7.42231958, -2.44599168])"
      ],
      "execution_count": 0,
      "outputs": [
        {
          "output_type": "stream",
          "text": [
            "[-0.33737816 -7.42231958 -2.44599168]\n"
          ],
          "name": "stdout"
        }
      ]
    },
    {
      "cell_type": "code",
      "metadata": {
        "nbgrader": {
          "grade": true,
          "grade_id": "Question 7",
          "locked": true,
          "points": "25",
          "solution": false
        },
        "id": "oqEQzvf8zOqg",
        "colab_type": "code",
        "colab": {}
      },
      "source": [
        "#\n",
        "# AUTOGRADER TEST - DO NOT REMOVE\n",
        "#\n"
      ],
      "execution_count": 0,
      "outputs": []
    },
    {
      "cell_type": "markdown",
      "metadata": {
        "nbgrader": {
          "grade": false,
          "locked": true,
          "solution": false
        },
        "id": "B9NgmAYEzOqk",
        "colab_type": "text"
      },
      "source": [
        "#### Question 8\n",
        "Code a function called `update_w`, that performs a single-step of gradient descent for calculating the Logistic Regression weights:\n",
        "\n",
        "**Given**: Pre-processed matricies of x, and y; the current weights - $w_i$, and \"$\\eta$\"  \n",
        "**Return**: $w_{i+1}$ Which is equal to: $w_i + \\eta \\sum_{i = 1}^n (1 − \\sigma_i(y_i \\cdot w_i))\\ y_i x_i$"
      ]
    },
    {
      "cell_type": "code",
      "metadata": {
        "id": "uXSklYHgzOqm",
        "colab_type": "code",
        "colab": {}
      },
      "source": [
        "### GRADED\n",
        "### YOUR ANSWER BELOW\n",
        "def update_w(x_input, y_target, w, eta):\n",
        "    \"\"\"Obtain and return updated Logistic Regression weights\n",
        "    \n",
        "    Arguments:\n",
        "        x_input - *preprocessed* an array of shape n-by-d\n",
        "        y_target - *preprocessed* a vector of length n\n",
        "        w - a vector of length d\n",
        "        eta - a float, positive, close to 0\n",
        "        \n",
        "    Example:\n",
        "        x = np.array([[1,22,7.25],[1,38,71.2833]])\n",
        "        y = np.array([-1,1])\n",
        "        w = np.array([.1,-.2, .5])\n",
        "        eta = .1\n",
        "        \n",
        "        print(update_w(x,y,w, eta)) #--> array([ 0.06626218, -0.94223196,  0.25540083])\n",
        "    \"\"\"\n",
        "    #  wi + η*∑n(1−σi(yi⋅wi)) yixi   \n",
        "    mi_num = eta * sum_all(x_input, y_target, w)\n",
        "    \n",
        "    return np.sum([w, mi_num], axis=0) \n",
        "\n",
        "    "
      ],
      "execution_count": 0,
      "outputs": []
    },
    {
      "cell_type": "code",
      "metadata": {
        "id": "3PXuI07P7hoO",
        "colab_type": "code",
        "outputId": "5878d7fc-5110-4285-919c-123165eaf273",
        "colab": {
          "base_uri": "https://localhost:8080/",
          "height": 34
        }
      },
      "source": [
        "x = np.array([[1,22,7.25],[1,38,71.2833]])\n",
        "y = np.array([-1,1])\n",
        "w = np.array([.1,-.2, .5])\n",
        "eta = .1\n",
        "\n",
        "def update_w(x_input, y_target, w, eta):\n",
        "  #  wi + η*∑n(1−σi(yi⋅wi)) yixi   \n",
        "  mi_num = eta * sum_all(x_input, y_target, w)\n",
        "    \n",
        "  return np.sum([w, mi_num], axis=0) \n",
        "        \n",
        "print(update_w(x,y,w, eta)) #--> array([ 0.06626218, -0.94223196,  0.25540083])"
      ],
      "execution_count": 0,
      "outputs": [
        {
          "output_type": "stream",
          "text": [
            "[ 0.06626218 -0.94223196  0.25540083]\n"
          ],
          "name": "stdout"
        }
      ]
    },
    {
      "cell_type": "code",
      "metadata": {
        "nbgrader": {
          "grade": true,
          "grade_id": "Question 8",
          "locked": true,
          "points": "25",
          "solution": false
        },
        "id": "ychCfCV7zOqo",
        "colab_type": "code",
        "colab": {}
      },
      "source": [
        "#\n",
        "# AUTOGRADER TEST - DO NOT REMOVE\n",
        "#\n"
      ],
      "execution_count": 0,
      "outputs": []
    },
    {
      "cell_type": "markdown",
      "metadata": {
        "nbgrader": {
          "grade": false,
          "locked": true,
          "solution": false
        },
        "id": "QHI4JyUFzOqr",
        "colab_type": "text"
      },
      "source": [
        "#### Question 9\n",
        "Next, create a function called `fixed_iteration` which will perform gradient descent, calculating Logistic Regression weights for a specified number of steps.  \n",
        "\n",
        "\n",
        "**Given**: *Un-preprocessed* x- and y- matricies, an $\\eta$ parameter that is positive and close to 0, and an integer number of steps  \n",
        "**Return**: $w_{steps}$ where $w_{i+1} = w_i + \\eta \\sum_{i = 1}^n (1 − \\sigma_i(y_i \\cdot w_i))\\ y_i x_i$  \n",
        "\n",
        "NB: Initial weights ($w_0$) should all be 0's like are returned from the `prepare_data` function."
      ]
    },
    {
      "cell_type": "code",
      "metadata": {
        "id": "jz8N4NohzOqr",
        "colab_type": "code",
        "colab": {}
      },
      "source": [
        "### GRADED\n",
        "### Follow directions above\n",
        "### YOUR ANSWER BELOW\n",
        "\n",
        "def fixed_iteration(x_input, y_target, eta, steps):\n",
        "    \n",
        "    \"\"\"\n",
        "    Return weights calculated from 'steps' number of steps of gradient descent.\n",
        "    \n",
        "    Arguments:\n",
        "        x_input - *NOT-preprocessed* an array\n",
        "        y_target - *NOT-preprocessed* a vector of length n\n",
        "        eta - a float, positve, close to 0\n",
        "        steps - an int\n",
        "        \n",
        "    Example:\n",
        "        x = np.array([[22,7.25],[38,71.2833],[26,7.925],[35,53.1]])\n",
        "        y = np.array([-1,1,1,1])\n",
        "        eta = .1\n",
        "        steps = 100\n",
        "        \n",
        "        print(fixed_iteration(x,y, eta, steps)) #--> np.array([-0.9742495,  -0.41389924, 6.8199374 ])\n",
        "    \n",
        "    \"\"\"\n",
        "    \n",
        "    return np.array([])"
      ],
      "execution_count": 0,
      "outputs": []
    },
    {
      "cell_type": "code",
      "metadata": {
        "id": "psoBDPt7-xxL",
        "colab_type": "code",
        "outputId": "690f2dd6-20bb-42d3-95a1-d0a82d414430",
        "colab": {
          "base_uri": "https://localhost:8080/",
          "height": 34
        }
      },
      "source": [
        "x = np.array([[22,7.25],[38,71.2833],[26,7.925],[35,53.1]])\n",
        "y = np.array([-1,1,1,1])\n",
        "eta = .1\n",
        "steps = 100\n",
        "\n",
        "def fixed_iteration(x_input, y_target, eta, steps): \n",
        "  x,y,w = prepare_data(x_input,y_target)          # prepare data. features as columns + one coloumns, ovservation as rows\n",
        "  \n",
        "  for i in range(steps):  \n",
        "    w = update_w(x,y,w, eta)\n",
        "  \n",
        "  return w\n",
        "\n",
        "  \n",
        "print(fixed_iteration(x,y, eta, steps)) #--> np.array([-0.9742495,  -0.41389924, 6.8199374 ])"
      ],
      "execution_count": 0,
      "outputs": [
        {
          "output_type": "stream",
          "text": [
            "[-0.9742495  -0.41389924  6.8199374 ]\n"
          ],
          "name": "stdout"
        }
      ]
    },
    {
      "cell_type": "code",
      "metadata": {
        "nbgrader": {
          "grade": true,
          "grade_id": "Question 9",
          "locked": true,
          "points": "15",
          "solution": false
        },
        "id": "lZbCnUNWzOqv",
        "colab_type": "code",
        "colab": {}
      },
      "source": [
        "#\n",
        "# AUTOGRADER TEST - DO NOT REMOVE\n",
        "#\n"
      ],
      "execution_count": 0,
      "outputs": []
    },
    {
      "cell_type": "markdown",
      "metadata": {
        "nbgrader": {
          "grade": false,
          "locked": true,
          "solution": false
        },
        "id": "8qpH3kwgzOqy",
        "colab_type": "text"
      },
      "source": [
        "#### Question 10\n",
        "For the final function, a  prediction will be created for out-of-sample data.  \n",
        "\n",
        "Code a function called \"`label_proba`\".\n",
        "\n",
        "Accept two inputs:  \n",
        "- An **un-preprocessed** observation of X -- a vector as numpy array  \n",
        "- A numpy array of weights\n",
        "\n",
        "Return:\n",
        "A label prediction for the x observations; either -1 or 1 (integers).  \n",
        "\n",
        "**NB:**\n",
        "FIRST preprocess X. Then;  \n",
        "If $X^T\\cdot w > 0$  predict 1. Otherwise, predict -1.\n"
      ]
    },
    {
      "cell_type": "code",
      "metadata": {
        "id": "yGsqXzgSzOqz",
        "colab_type": "code",
        "colab": {}
      },
      "source": [
        "### GRADED\n",
        "### Follow Directions Above\n",
        "### YOUR ANSWER BELOW\n",
        "def predict(x_input, weights):\n",
        "    \"\"\"\n",
        "    Return the label prediction, 1 or -1 (an integer), for the given x_input and LR weights.\n",
        "    \n",
        "    Arguments:\n",
        "        x_input - *NOT-preprocessed* a vector of length d-1\n",
        "        weights - a vector of length d\n",
        "               \n",
        "    Example:\n",
        "        Xs = np.array([[22,7.25],[38,71.2833],[26,7.925],[35,53.1]])\n",
        "        weights = np.array([0,1,-1])\n",
        "        \n",
        "        for X in Xs:\n",
        "            print(predict(X,weights))\n",
        "            #-->     1\n",
        "                    -1\n",
        "                     1\n",
        "                    -1\n",
        "    \"\"\"\n",
        "    prepared_x = np.concatenate(([1],x_input))  \n",
        "    predict_y = np.matmul( np.transpose(prepared_x), weights )\n",
        "    \n",
        "    if predict_y > 0:\n",
        "      val_y = 1\n",
        "    else:\n",
        "      val_y = -1\n",
        "    \n",
        "    return val_y\n",
        "    "
      ],
      "execution_count": 0,
      "outputs": []
    },
    {
      "cell_type": "code",
      "metadata": {
        "id": "bFSeJWi_ZHJv",
        "colab_type": "code",
        "outputId": "6416048d-3d22-48e8-c286-01d63a927614",
        "colab": {
          "base_uri": "https://localhost:8080/",
          "height": 85
        }
      },
      "source": [
        "Xs = np.array([[22,7.25],[38,71.2833],[26,7.925],[35,53.1]])\n",
        "weights = np.array([0,1,-1])\n",
        "\n",
        "def predict(x_input, weights):\n",
        "  #NB: FIRST preprocess X. Then;\n",
        "  #If  XT⋅w>0  predict 1. Otherwise, predict -1.\n",
        "    \n",
        "  prepared_x = np.concatenate(([1],x_input))  \n",
        "  predict_y = np.matmul( np.transpose(prepared_x), weights )\n",
        "    \n",
        "  if predict_y > 0:\n",
        "    val_y = 1\n",
        "  else:\n",
        "    val_y = -1\n",
        "    \n",
        "  return val_y\n",
        "\n",
        "for X in Xs:\n",
        "  print(\"--------- y --------- : \",predict(X,weights))\n",
        "  #print(predict(X,weights))\n",
        "        \n",
        "\n"
      ],
      "execution_count": 0,
      "outputs": [
        {
          "output_type": "stream",
          "text": [
            "--------- y --------- :  1\n",
            "--------- y --------- :  -1\n",
            "--------- y --------- :  1\n",
            "--------- y --------- :  -1\n"
          ],
          "name": "stdout"
        }
      ]
    },
    {
      "cell_type": "code",
      "metadata": {
        "nbgrader": {
          "grade": true,
          "grade_id": "Question 10",
          "locked": true,
          "points": "15",
          "solution": false
        },
        "id": "NUXH1MUrzOq1",
        "colab_type": "code",
        "colab": {}
      },
      "source": [
        "#\n",
        "# AUTOGRADER TEST - DO NOT REMOVE\n",
        "#\n"
      ],
      "execution_count": 0,
      "outputs": []
    },
    {
      "cell_type": "markdown",
      "metadata": {
        "nbgrader": {
          "grade": false,
          "locked": true,
          "solution": false
        },
        "id": "BFJIckgbzOq3",
        "colab_type": "text"
      },
      "source": [
        "<a id = \"sklearn\"></a>\n",
        "### Logistic Regression in `sklearn`\n",
        "\n",
        "The following cells will demonstrate Logistic Regression using `sklearn`, and compare the custom Logistic Regression build in the previous functions to `sklearn's`\n",
        "\n",
        "[Logistic Regression in `sklearn` - Documentation](https://scikit-learn.org/stable/modules/generated/sklearn.linear_model.LogisticRegression.html)  "
      ]
    },
    {
      "cell_type": "code",
      "metadata": {
        "nbgrader": {
          "grade": false,
          "locked": true,
          "solution": false
        },
        "id": "cJRgTr9MzOq5",
        "colab_type": "code",
        "colab": {}
      },
      "source": [
        "from sklearn.linear_model import LogisticRegression\n",
        "from sklearn.metrics import classification_report\n",
        "lr = LogisticRegression()\n",
        "\n",
        "lr.fit(titanic_imputed, y_target)\n",
        "\n",
        "# Create sklearn's predictions\n",
        "sk_pred = lr.predict(titanic_imputed)\n",
        "\n",
        "print(lr.intercept_)\n",
        "print(lr.coef_)"
      ],
      "execution_count": 0,
      "outputs": []
    },
    {
      "cell_type": "markdown",
      "metadata": {
        "nbgrader": {
          "grade": false,
          "locked": true,
          "solution": false
        },
        "id": "b7vq6Q8wzOq7",
        "colab_type": "text"
      },
      "source": [
        "If the above functions are correctly defined, the below cell should work\n",
        "While the particular coeffcients will be very different (regularization is implemented in the `sklearn` instantiation), at least the signs should mostly be the same.  \n",
        "\n",
        "**FOR FASTER GRADING TRY COMMENTING OUT THE BELOW CELLS**"
      ]
    },
    {
      "cell_type": "code",
      "metadata": {
        "nbgrader": {
          "grade": false,
          "locked": false,
          "solution": false
        },
        "id": "l2rEYg6gzOq7",
        "colab_type": "code",
        "colab": {}
      },
      "source": [
        "# %%time\n",
        "# # This cell may take awhile\n",
        "# wt = fixed_iteration(titanic_imputed.values, y_target.values, .05, 12000)\n",
        "\n",
        "# print(wt)\n",
        "\n",
        "# cust_preds = np.array([predict(x,wt) for x in titanic_imputed.values])\n",
        "# cust_preds[cust_preds == -1] = 0"
      ],
      "execution_count": 0,
      "outputs": []
    },
    {
      "cell_type": "code",
      "metadata": {
        "nbgrader": {
          "grade": false,
          "locked": false,
          "solution": false
        },
        "id": "Q4rI9YUwzOq-",
        "colab_type": "code",
        "colab": {}
      },
      "source": [
        "# print(\"sklearn:\")\n",
        "# print(classification_report(y_target, sk_pred))\n",
        "\n",
        "# print(\"Custom:\")\n",
        "# print(classification_report(y_target, cust_preds))"
      ],
      "execution_count": 0,
      "outputs": []
    }
  ]
}